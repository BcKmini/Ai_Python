{
  "cells": [
    {
      "cell_type": "markdown",
      "metadata": {
        "id": "lvZHQMzXbfDh"
      },
      "source": [
        "# CNN 무작정 연습해보기 : MNIST"
      ]
    },
    {
      "cell_type": "markdown",
      "metadata": {
        "id": "sFgFjdnCbfDl"
      },
      "source": [
        "## 라이브러리 불러오기"
      ]
    },
    {
      "cell_type": "code",
      "execution_count": 1,
      "metadata": {
        "id": "SFmf24U0bfDl"
      },
      "outputs": [],
      "source": [
        "import numpy as np\n",
        "import pandas as pd\n",
        "import matplotlib.pyplot as plt\n",
        "\n",
        "import torch\n",
        "from torch import nn\n",
        "from torch.utils.data import DataLoader\n",
        "from torchvision import datasets\n",
        "from torchvision.transforms import ToTensor\n",
        "\n",
        "from torchsummary import summary"
      ]
    },
    {
      "cell_type": "markdown",
      "metadata": {
        "id": "6n54KqI8bfDn"
      },
      "source": [
        "## 데이터셋 불러오기"
      ]
    },
    {
      "cell_type": "markdown",
      "metadata": {
        "id": "RCsnLSR6bfDn"
      },
      "source": [
        "- 데이터셋 다운로드"
      ]
    },
    {
      "cell_type": "code",
      "execution_count": 2,
      "metadata": {
        "id": "XKHwmGAUbfDo",
        "colab": {
          "base_uri": "https://localhost:8080/"
        },
        "outputId": "ac321157-254e-40b3-a44a-9f806a62f4e7"
      },
      "outputs": [
        {
          "output_type": "stream",
          "name": "stdout",
          "text": [
            "Downloading http://yann.lecun.com/exdb/mnist/train-images-idx3-ubyte.gz\n",
            "Failed to download (trying next):\n",
            "HTTP Error 403: Forbidden\n",
            "\n",
            "Downloading https://ossci-datasets.s3.amazonaws.com/mnist/train-images-idx3-ubyte.gz\n",
            "Downloading https://ossci-datasets.s3.amazonaws.com/mnist/train-images-idx3-ubyte.gz to dataset/MNIST/raw/train-images-idx3-ubyte.gz\n"
          ]
        },
        {
          "output_type": "stream",
          "name": "stderr",
          "text": [
            "100%|██████████| 9912422/9912422 [00:00<00:00, 30259173.66it/s]\n"
          ]
        },
        {
          "output_type": "stream",
          "name": "stdout",
          "text": [
            "Extracting dataset/MNIST/raw/train-images-idx3-ubyte.gz to dataset/MNIST/raw\n",
            "\n",
            "Downloading http://yann.lecun.com/exdb/mnist/train-labels-idx1-ubyte.gz\n",
            "Failed to download (trying next):\n",
            "HTTP Error 403: Forbidden\n",
            "\n",
            "Downloading https://ossci-datasets.s3.amazonaws.com/mnist/train-labels-idx1-ubyte.gz\n",
            "Downloading https://ossci-datasets.s3.amazonaws.com/mnist/train-labels-idx1-ubyte.gz to dataset/MNIST/raw/train-labels-idx1-ubyte.gz\n"
          ]
        },
        {
          "output_type": "stream",
          "name": "stderr",
          "text": [
            "100%|██████████| 28881/28881 [00:00<00:00, 2509908.08it/s]"
          ]
        },
        {
          "output_type": "stream",
          "name": "stdout",
          "text": [
            "Extracting dataset/MNIST/raw/train-labels-idx1-ubyte.gz to dataset/MNIST/raw\n",
            "\n",
            "Downloading http://yann.lecun.com/exdb/mnist/t10k-images-idx3-ubyte.gz\n"
          ]
        },
        {
          "output_type": "stream",
          "name": "stderr",
          "text": [
            "\n"
          ]
        },
        {
          "output_type": "stream",
          "name": "stdout",
          "text": [
            "Failed to download (trying next):\n",
            "HTTP Error 403: Forbidden\n",
            "\n",
            "Downloading https://ossci-datasets.s3.amazonaws.com/mnist/t10k-images-idx3-ubyte.gz\n",
            "Downloading https://ossci-datasets.s3.amazonaws.com/mnist/t10k-images-idx3-ubyte.gz to dataset/MNIST/raw/t10k-images-idx3-ubyte.gz\n"
          ]
        },
        {
          "output_type": "stream",
          "name": "stderr",
          "text": [
            "100%|██████████| 1648877/1648877 [00:00<00:00, 14489216.50it/s]\n"
          ]
        },
        {
          "output_type": "stream",
          "name": "stdout",
          "text": [
            "Extracting dataset/MNIST/raw/t10k-images-idx3-ubyte.gz to dataset/MNIST/raw\n",
            "\n",
            "Downloading http://yann.lecun.com/exdb/mnist/t10k-labels-idx1-ubyte.gz\n",
            "Failed to download (trying next):\n",
            "HTTP Error 403: Forbidden\n",
            "\n",
            "Downloading https://ossci-datasets.s3.amazonaws.com/mnist/t10k-labels-idx1-ubyte.gz\n",
            "Downloading https://ossci-datasets.s3.amazonaws.com/mnist/t10k-labels-idx1-ubyte.gz to dataset/MNIST/raw/t10k-labels-idx1-ubyte.gz\n"
          ]
        },
        {
          "output_type": "stream",
          "name": "stderr",
          "text": [
            "100%|██████████| 4542/4542 [00:00<00:00, 8089396.50it/s]\n"
          ]
        },
        {
          "output_type": "stream",
          "name": "stdout",
          "text": [
            "Extracting dataset/MNIST/raw/t10k-labels-idx1-ubyte.gz to dataset/MNIST/raw\n",
            "\n"
          ]
        }
      ],
      "source": [
        "training_dataset = datasets.MNIST(root='dataset',\n",
        "                                  train=True,\n",
        "                                  download=True,\n",
        "                                  transform=ToTensor(),\n",
        "                                  )\n",
        "\n",
        "test_dataset = datasets.MNIST(root='dataset',\n",
        "                              train=False,\n",
        "                              download=False,\n",
        "                              transform=ToTensor(),\n",
        "                              )"
      ]
    },
    {
      "cell_type": "markdown",
      "metadata": {
        "id": "fTOyi6HGbfDo"
      },
      "source": [
        "- 각 변수에 데이터셋이 담겨있는 상태"
      ]
    },
    {
      "cell_type": "code",
      "execution_count": 3,
      "metadata": {
        "id": "5gdf1i9dbfDp",
        "colab": {
          "base_uri": "https://localhost:8080/"
        },
        "outputId": "00c365fa-e946-4e2c-8255-f1768dca7845"
      },
      "outputs": [
        {
          "output_type": "execute_result",
          "data": {
            "text/plain": [
              "Dataset MNIST\n",
              "    Number of datapoints: 60000\n",
              "    Root location: dataset\n",
              "    Split: Train\n",
              "    StandardTransform\n",
              "Transform: ToTensor()"
            ]
          },
          "metadata": {},
          "execution_count": 3
        }
      ],
      "source": [
        "training_dataset"
      ]
    },
    {
      "cell_type": "code",
      "execution_count": 4,
      "metadata": {
        "id": "yASmYeLObfDp",
        "colab": {
          "base_uri": "https://localhost:8080/"
        },
        "outputId": "160bccc5-74b2-4504-b2d2-26abb6c37fae"
      },
      "outputs": [
        {
          "output_type": "execute_result",
          "data": {
            "text/plain": [
              "Dataset MNIST\n",
              "    Number of datapoints: 10000\n",
              "    Root location: dataset\n",
              "    Split: Test\n",
              "    StandardTransform\n",
              "Transform: ToTensor()"
            ]
          },
          "metadata": {},
          "execution_count": 4
        }
      ],
      "source": [
        "test_dataset"
      ]
    },
    {
      "cell_type": "markdown",
      "metadata": {
        "id": "e24Ua77sbfDq"
      },
      "source": [
        "## 데이터셋 구경하기"
      ]
    },
    {
      "cell_type": "code",
      "execution_count": 5,
      "metadata": {
        "id": "kHeC5t10bfDq",
        "colab": {
          "base_uri": "https://localhost:8080/",
          "height": 954
        },
        "outputId": "1848e4d1-adce-41da-de03-5ae937bc4d9c"
      },
      "outputs": [
        {
          "output_type": "display_data",
          "data": {
            "text/plain": [
              "<Figure size 1600x1600 with 25 Axes>"
            ],
            "image/png": "[encoded data removed]"
          },
          "metadata": {}
        }
      ],
      "source": [
        "figure = plt.figure(figsize=(16, 16))\n",
        "cols, rows = 5, 5\n",
        "\n",
        "for i in range(1, cols*rows+1) :\n",
        "    figure.add_subplot(rows, cols, i)\n",
        "\n",
        "    sample_idx = torch.randint(len(training_dataset), size=(1,)).item()\n",
        "    img, label = training_dataset[sample_idx]\n",
        "\n",
        "    plt.title(f'Actual: {label}')\n",
        "    plt.axis(\"off\")\n",
        "    plt.imshow(img.squeeze(), cmap=\"gray\")\n",
        "\n",
        "plt.show()"
      ]
    },
    {
      "cell_type": "markdown",
      "metadata": {
        "id": "Ub57RhhqbfDq"
      },
      "source": [
        "## 데이터로더 생성하기\n",
        "- 데이터셋을 순차적으로 조회 가능하도록 만드는 작업"
      ]
    },
    {
      "cell_type": "code",
      "execution_count": 6,
      "metadata": {
        "id": "AULTyPKXbfDq"
      },
      "outputs": [],
      "source": [
        "batch_size = 32\n",
        "\n",
        "train_dataloader = DataLoader(dataset=training_dataset,\n",
        "                              batch_size=batch_size\n",
        "                              )\n",
        "\n",
        "test_dataloader = DataLoader(dataset=test_dataset,\n",
        "                             batch_size=batch_size\n",
        "                             )"
      ]
    },
    {
      "cell_type": "code",
      "execution_count": 7,
      "metadata": {
        "id": "nwuzOeS2bfDr",
        "colab": {
          "base_uri": "https://localhost:8080/"
        },
        "outputId": "4f6f759a-f4b5-4860-fde2-b0c3b09c972b"
      },
      "outputs": [
        {
          "output_type": "stream",
          "name": "stdout",
          "text": [
            "학습 데이터의 형태 [N, C, H, W] : torch.Size([32, 1, 28, 28])\n",
            "학습 데이터의 데이터 타입: torch.float32\n",
            "정답 데이터의 형태 : torch.Size([32])\n",
            "정답 데이터의 데이터 타입: torch.int64\n"
          ]
        }
      ],
      "source": [
        "for x, y in train_dataloader :\n",
        "    print(f'학습 데이터의 형태 [N, C, H, W] : {x.shape}')\n",
        "    print(f'학습 데이터의 데이터 타입: {x.dtype}')\n",
        "\n",
        "    print(f'정답 데이터의 형태 : {y.shape}')\n",
        "    print(f'정답 데이터의 데이터 타입: {y.dtype}')\n",
        "    break"
      ]
    },
    {
      "cell_type": "markdown",
      "metadata": {
        "id": "goe359_ubfDr"
      },
      "source": [
        "## 연산 장치 설정"
      ]
    },
    {
      "cell_type": "code",
      "execution_count": 8,
      "metadata": {
        "id": "zzTquy76bfDr",
        "colab": {
          "base_uri": "https://localhost:8080/"
        },
        "outputId": "3778cb09-d27b-46ba-e74f-3ffab9968b44"
      },
      "outputs": [
        {
          "output_type": "stream",
          "name": "stdout",
          "text": [
            "연산 장치 : cpu\n"
          ]
        }
      ],
      "source": [
        "device = ('cuda' if torch.cuda.is_available() else 'cpu')\n",
        "\n",
        "print(f'연산 장치 : {device}')"
      ]
    },
    {
      "cell_type": "markdown",
      "metadata": {
        "id": "MP7Sfw9LbfDr"
      },
      "source": [
        "## 모델 정의 및 생성"
      ]
    },
    {
      "cell_type": "markdown",
      "metadata": {
        "id": "H8toApP1bfDr"
      },
      "source": [
        "- 모델의 형태 구성"
      ]
    },
    {
      "cell_type": "code",
      "source": [
        "class BasicCNN(nn.Module) :\n",
        "    def __init__(self) :\n",
        "        super().__init__()\n",
        "        self.basicCNN = nn.Sequential(\n",
        "            nn.Conv2d(in_channels=1, out_channels=128,\n",
        "                      kernel_size=(3,3), stride=(1,1), padding=1),\n",
        "            nn.ReLU(),\n",
        "            nn.MaxPool2d(kernel_size=(2,2), stride=(2,2)),\n",
        "            nn.Conv2d(in_channels=128, out_channels=64,\n",
        "                      kernel_size=(3,3), stride=(1,1), padding=1),\n",
        "            nn.ReLU(),\n",
        "            nn.MaxPool2d(kernel_size=(2,2), stride=(2,2)),\n",
        "            nn.Flatten(),\n",
        "            nn.Linear(7*7*64, 256)  # 입력 크기를 수정함\n",
        "        )\n",
        "\n",
        "    def forward(self, x) :\n",
        "        x = self.basicCNN(x)\n",
        "        return x"
      ],
      "metadata": {
        "id": "ykJLnJ8UfKaD"
      },
      "execution_count": 9,
      "outputs": []
    },
    {
      "cell_type": "code",
      "source": [
        "model = BasicCNN().to(device)\n",
        "model"
      ],
      "metadata": {
        "id": "ObOFh6AYhNh6",
        "colab": {
          "base_uri": "https://localhost:8080/"
        },
        "outputId": "301bf82e-9fbf-4720-c848-6af69f744fc2"
      },
      "execution_count": 10,
      "outputs": [
        {
          "output_type": "execute_result",
          "data": {
            "text/plain": [
              "BasicCNN(\n",
              "  (basicCNN): Sequential(\n",
              "    (0): Conv2d(1, 128, kernel_size=(3, 3), stride=(1, 1), padding=(1, 1))\n",
              "    (1): ReLU()\n",
              "    (2): MaxPool2d(kernel_size=(2, 2), stride=(2, 2), padding=0, dilation=1, ceil_mode=False)\n",
              "    (3): Conv2d(128, 64, kernel_size=(3, 3), stride=(1, 1), padding=(1, 1))\n",
              "    (4): ReLU()\n",
              "    (5): MaxPool2d(kernel_size=(2, 2), stride=(2, 2), padding=0, dilation=1, ceil_mode=False)\n",
              "    (6): Flatten(start_dim=1, end_dim=-1)\n",
              "    (7): Linear(in_features=3136, out_features=256, bias=True)\n",
              "  )\n",
              ")"
            ]
          },
          "metadata": {},
          "execution_count": 10
        }
      ]
    },
    {
      "cell_type": "code",
      "source": [
        "from torchsummary import summary"
      ],
      "metadata": {
        "id": "UIZufrpw056i"
      },
      "execution_count": 11,
      "outputs": []
    },
    {
      "cell_type": "code",
      "source": [
        "summary(model, (1, 28, 28))"
      ],
      "metadata": {
        "id": "PekN06NQiPp2",
        "colab": {
          "base_uri": "https://localhost:8080/"
        },
        "outputId": "1342beb6-23f2-412f-bec0-57d45cf481d1"
      },
      "execution_count": 12,
      "outputs": [
        {
          "output_type": "stream",
          "name": "stdout",
          "text": [
            "----------------------------------------------------------------\n",
            "        Layer (type)               Output Shape         Param #\n",
            "================================================================\n",
            "            Conv2d-1          [-1, 128, 28, 28]           1,280\n",
            "              ReLU-2          [-1, 128, 28, 28]               0\n",
            "         MaxPool2d-3          [-1, 128, 14, 14]               0\n",
            "            Conv2d-4           [-1, 64, 14, 14]          73,792\n",
            "              ReLU-5           [-1, 64, 14, 14]               0\n",
            "         MaxPool2d-6             [-1, 64, 7, 7]               0\n",
            "           Flatten-7                 [-1, 3136]               0\n",
            "            Linear-8                  [-1, 256]         803,072\n",
            "================================================================\n",
            "Total params: 878,144\n",
            "Trainable params: 878,144\n",
            "Non-trainable params: 0\n",
            "----------------------------------------------------------------\n",
            "Input size (MB): 0.00\n",
            "Forward/backward pass size (MB): 1.96\n",
            "Params size (MB): 3.35\n",
            "Estimated Total Size (MB): 5.32\n",
            "----------------------------------------------------------------\n"
          ]
        }
      ]
    },
    {
      "cell_type": "markdown",
      "metadata": {
        "id": "25m-RVnNbfDs"
      },
      "source": [
        "- 손실 함수와 옵티마이저 설정"
      ]
    },
    {
      "cell_type": "code",
      "execution_count": 13,
      "metadata": {
        "id": "CEhsOC6UbfDs"
      },
      "outputs": [],
      "source": [
        "loss_fn = nn.CrossEntropyLoss()\n",
        "optim = torch.optim.Adam(model.parameters(), lr=1e-3)"
      ]
    },
    {
      "cell_type": "code",
      "execution_count": 14,
      "metadata": {
        "id": "vbWMke9zbfDs",
        "colab": {
          "base_uri": "https://localhost:8080/"
        },
        "outputId": "993ebc3c-ffb3-456d-9635-a38a457fcd2f"
      },
      "outputs": [
        {
          "output_type": "execute_result",
          "data": {
            "text/plain": [
              "CrossEntropyLoss()"
            ]
          },
          "metadata": {},
          "execution_count": 14
        }
      ],
      "source": [
        "loss_fn"
      ]
    },
    {
      "cell_type": "code",
      "execution_count": 15,
      "metadata": {
        "id": "v98XhCgMbfDs",
        "colab": {
          "base_uri": "https://localhost:8080/"
        },
        "outputId": "d3439baa-43d0-4ac0-8201-4690edf1b83f"
      },
      "outputs": [
        {
          "output_type": "execute_result",
          "data": {
            "text/plain": [
              "Adam (\n",
              "Parameter Group 0\n",
              "    amsgrad: False\n",
              "    betas: (0.9, 0.999)\n",
              "    capturable: False\n",
              "    differentiable: False\n",
              "    eps: 1e-08\n",
              "    foreach: None\n",
              "    fused: None\n",
              "    lr: 0.001\n",
              "    maximize: False\n",
              "    weight_decay: 0\n",
              ")"
            ]
          },
          "metadata": {},
          "execution_count": 15
        }
      ],
      "source": [
        "optim"
      ]
    },
    {
      "cell_type": "markdown",
      "metadata": {
        "id": "D2W-PwXYbfDs"
      },
      "source": [
        "- 학습 절차를 함수화"
      ]
    },
    {
      "cell_type": "code",
      "execution_count": 16,
      "metadata": {
        "id": "tF0No1QnbfDs"
      },
      "outputs": [],
      "source": [
        "def train(dataloader, model, loss_fn, optim) :\n",
        "    model.train()\n",
        "    size = len(dataloader.dataset)\n",
        "\n",
        "    for batch, (x, y) in enumerate(dataloader) :\n",
        "        x, y = x.to(device), y.to(device)\n",
        "\n",
        "        y_pred = model(x)\n",
        "        loss = loss_fn(y_pred, y)\n",
        "\n",
        "        optim.zero_grad()\n",
        "        loss.backward()\n",
        "        optim.step()\n",
        "\n",
        "        if batch % 100 == 0 :\n",
        "            loss = loss.item()\n",
        "            current = (batch+1) * len(x)\n",
        "            print(f'[{current:5d}/{size:5d}] | loss: {loss:.4f}')"
      ]
    },
    {
      "cell_type": "code",
      "execution_count": 17,
      "metadata": {
        "id": "ysJ1oBJ1bfDs"
      },
      "outputs": [],
      "source": [
        "def test(dataloader, model, loss_fn) :\n",
        "    model.eval()\n",
        "    size = len(dataloader.dataset)\n",
        "    num_batches = len(dataloader)\n",
        "\n",
        "    test_loss = 0\n",
        "    correct = 0\n",
        "\n",
        "    with torch.no_grad() :\n",
        "        for x, y in dataloader :\n",
        "            x, y = x.to(device), y.to(device)\n",
        "\n",
        "            y_pred = model(x)\n",
        "            test_loss = test_loss + loss_fn(y_pred, y).item()\n",
        "            correct = correct + (y_pred.argmax(1)==y).type(torch.float).sum().item()\n",
        "\n",
        "    test_loss = test_loss / num_batches\n",
        "    correct = correct / size\n",
        "\n",
        "    print(f'Accuracy: {100*correct:.2f}% | Avg_loss: {test_loss:.4f}')"
      ]
    },
    {
      "cell_type": "code",
      "execution_count": 18,
      "metadata": {
        "id": "w6tmP7z5bfDt",
        "colab": {
          "base_uri": "https://localhost:8080/"
        },
        "outputId": "1a1eddb7-92d4-48b9-feea-e96a20206a88"
      },
      "outputs": [
        {
          "output_type": "stream",
          "name": "stdout",
          "text": [
            "Epoch 1\n",
            "--------------------------\n",
            "[   32/60000] | loss: 5.6034\n",
            "[ 3232/60000] | loss: 0.4801\n",
            "[ 6432/60000] | loss: 0.1173\n",
            "[ 9632/60000] | loss: 0.1553\n",
            "[12832/60000] | loss: 0.0549\n",
            "[16032/60000] | loss: 0.1107\n",
            "[19232/60000] | loss: 0.0168\n",
            "[22432/60000] | loss: 0.0362\n",
            "[25632/60000] | loss: 0.1339\n",
            "[28832/60000] | loss: 0.0706\n",
            "[32032/60000] | loss: 0.1281\n",
            "[35232/60000] | loss: 0.0786\n",
            "[38432/60000] | loss: 0.1724\n",
            "[41632/60000] | loss: 0.1525\n",
            "[44832/60000] | loss: 0.0288\n",
            "[48032/60000] | loss: 0.1186\n",
            "[51232/60000] | loss: 0.1081\n",
            "[54432/60000] | loss: 0.0037\n",
            "[57632/60000] | loss: 0.0745\n",
            "Accuracy: 97.18% | Avg_loss: 0.0824\n",
            "--------------------------\n",
            "==============================\n",
            "End\n"
          ]
        }
      ],
      "source": [
        "epochs = 1\n",
        "\n",
        "for e in range(epochs) :\n",
        "    print(f'Epoch {e+1}')\n",
        "    print('--------------------------')\n",
        "\n",
        "    train(train_dataloader, model, loss_fn, optim)\n",
        "    test(test_dataloader, model, loss_fn)\n",
        "    print('--------------------------')\n",
        "\n",
        "print('==============================')\n",
        "print('End')"
      ]
    },
    {
      "cell_type": "markdown",
      "metadata": {
        "id": "cNXXk7o1bfDt"
      },
      "source": [
        "## 테스트 결과 살펴보기"
      ]
    },
    {
      "cell_type": "code",
      "execution_count": 19,
      "metadata": {
        "id": "KAzp4uwqbfDt",
        "colab": {
          "base_uri": "https://localhost:8080/"
        },
        "outputId": "f94dbf59-6b6d-458e-b247-5235e45caab7"
      },
      "outputs": [
        {
          "output_type": "stream",
          "name": "stdout",
          "text": [
            "Predicted: 8 | Actual: 8\n"
          ]
        }
      ],
      "source": [
        "model.eval()\n",
        "\n",
        "rand_idx = torch.randint(0, 10000, size=(1,)).item()\n",
        "x, y = test_dataset[rand_idx][0].view((-1,1,28,28)), test_dataset[rand_idx][1]\n",
        "\n",
        "with torch.no_grad() :\n",
        "    x = x.to(device)\n",
        "    y_pred = model(x)\n",
        "\n",
        "    predicted = y_pred.argmax()\n",
        "    actual = y\n",
        "\n",
        "    print(f'Predicted: {predicted} | Actual: {actual}')"
      ]
    },
    {
      "cell_type": "markdown",
      "metadata": {
        "id": "2OhqGJcgbfDt"
      },
      "source": [
        "- 시각화 하여 살펴보기"
      ]
    },
    {
      "cell_type": "code",
      "execution_count": 20,
      "metadata": {
        "id": "lb8zcqymbfDt",
        "colab": {
          "base_uri": "https://localhost:8080/",
          "height": 954
        },
        "outputId": "a68a7a69-c455-406b-d6ed-0eb64eb0d72d"
      },
      "outputs": [
        {
          "output_type": "display_data",
          "data": {
            "text/plain": [
              "<Figure size 1600x1600 with 25 Axes>"
            ],
            "image/png": "[encoded data removed]"
          },
          "metadata": {}
        }
      ],
      "source": [
        "model.eval()\n",
        "\n",
        "figure = plt.figure(figsize=(16, 16))\n",
        "cols, rows = 5, 5\n",
        "\n",
        "for i in range(1, cols*rows+1) :\n",
        "    figure.add_subplot(rows, cols, i)\n",
        "\n",
        "    rand_idx = torch.randint(0, 10000, size=(1,)).item()\n",
        "    x, y = test_dataset[rand_idx][0].view((-1,1,28,28)), test_dataset[rand_idx][1]\n",
        "\n",
        "    with torch.no_grad() :\n",
        "        x = x.to(device)\n",
        "        y_pred = model(x)\n",
        "\n",
        "        predicted = y_pred.argmax()\n",
        "        actual = y\n",
        "\n",
        "    plt.title(f'Predicted: {predicted} | Actual: {actual}')\n",
        "    plt.axis(\"off\")\n",
        "    plt.imshow(x.squeeze(), cmap=\"gray\")\n",
        "\n",
        "plt.show()"
      ]
    },
    {
      "cell_type": "markdown",
      "metadata": {
        "id": "uxAx8kGpbfDt"
      },
      "source": [
        "- 틀린 것만 시각화 하여 살펴보기"
      ]
    },
    {
      "cell_type": "code",
      "execution_count": 21,
      "metadata": {
        "id": "DbomJs_ibfDt"
      },
      "outputs": [],
      "source": [
        "model.eval()\n",
        "\n",
        "predicted_list, actual_list = [], []\n",
        "\n",
        "for i in range(len(test_dataset)) :\n",
        "    x, y = test_dataset[i][0].view((-1,1,28,28)), test_dataset[i][1]\n",
        "\n",
        "    with torch.no_grad() :\n",
        "        x = x.to(device)\n",
        "        y_pred = model(x)\n",
        "\n",
        "        predicted = y_pred.argmax().item()\n",
        "        actual = y\n",
        "\n",
        "        predicted_list.append(predicted)\n",
        "        actual_list.append(actual)"
      ]
    },
    {
      "cell_type": "code",
      "execution_count": 22,
      "metadata": {
        "id": "x29izR4VbfDu",
        "colab": {
          "base_uri": "https://localhost:8080/"
        },
        "outputId": "d1e18eee-062b-4358-aeb1-b167923e26ff"
      },
      "outputs": [
        {
          "output_type": "execute_result",
          "data": {
            "text/plain": [
              "([7, 2, 1, 0, 4], [7, 2, 1, 0, 4])"
            ]
          },
          "metadata": {},
          "execution_count": 22
        }
      ],
      "source": [
        "predicted_list[:5], actual_list[:5]"
      ]
    },
    {
      "cell_type": "code",
      "execution_count": 23,
      "metadata": {
        "id": "R8zAhLnGbfDu",
        "colab": {
          "base_uri": "https://localhost:8080/"
        },
        "outputId": "a8a10452-aac1-4ee3-f34e-c69ea6e3d63c"
      },
      "outputs": [
        {
          "output_type": "execute_result",
          "data": {
            "text/plain": [
              "[18, 62, 217, 316, 320]"
            ]
          },
          "metadata": {},
          "execution_count": 23
        }
      ],
      "source": [
        "false_idx_list = []\n",
        "\n",
        "for i in range(len(predicted_list)) :\n",
        "    if predicted_list[i] != actual_list[i] :\n",
        "        false_idx_list.append(i)\n",
        "\n",
        "false_idx_list[:5]"
      ]
    },
    {
      "cell_type": "code",
      "execution_count": 24,
      "metadata": {
        "id": "xSVNgTx1bfDu",
        "colab": {
          "base_uri": "https://localhost:8080/",
          "height": 954
        },
        "outputId": "731869f2-2594-42af-c993-89e2e630c6a6"
      },
      "outputs": [
        {
          "output_type": "display_data",
          "data": {
            "text/plain": [
              "<Figure size 1600x1600 with 25 Axes>"
            ],
            "image/png": "[encoded data removed]"
          },
          "metadata": {}
        }
      ],
      "source": [
        "model.eval()\n",
        "\n",
        "figure = plt.figure(figsize=(16, 16))\n",
        "cols, rows = 5, 5\n",
        "\n",
        "for i in range(1, cols*rows+1) :\n",
        "    figure.add_subplot(rows, cols, i)\n",
        "\n",
        "    sample_idx = false_idx_list[ torch.randint(len(false_idx_list), size=(1,)).item() ]\n",
        "\n",
        "    with torch.no_grad() :\n",
        "        temp_x = test_dataset[ sample_idx ][0].view((-1,1,28,28))\n",
        "        temp_y_pred = model(temp_x)\n",
        "\n",
        "        temp_predicted = temp_y_pred.argmax().item()\n",
        "        temp_actual = test_dataset[ sample_idx ][1]\n",
        "\n",
        "    plt.title(f'Predicted: {temp_predicted} | Actual: {temp_actual}')\n",
        "    plt.axis(\"off\")\n",
        "    plt.imshow(temp_x.squeeze(), cmap=\"gray\")\n",
        "\n",
        "plt.show()"
      ]
    },
    {
      "cell_type": "markdown",
      "source": [
        "## **내가 쓴 숫자도 인식할까?**\n",
        "---\n",
        "## **구글 드라이브에 손글씨 이미지를 업로드!**\n",
        "###**순서**\n",
        "1. 그림판으로 숫자를 그려서 저장한다. (저장할 때, 숫자를 파일명 맨 앞에 명시하는 것을 권장! ex) 3.png, 3_1.png )\n",
        "2. 구글 드라이브 첫 화면에 my_data 라는 폴더를 만든다.\n",
        "3. my_data 폴더 안에 my_mnist 폴더를 만든다.\n",
        "4. my_mnist 폴더 안에 1번 과정에서 만든 이미지를 업로드한다.\n",
        "5. 30초 정도 기다립시다.\n",
        "6. 아래의 코드들을 실행해본다."
      ],
      "metadata": {
        "id": "VhaIk0xgMNrR"
      }
    },
    {
      "cell_type": "code",
      "source": [
        "from google.colab import drive\n",
        "drive.mount('/content/drive')"
      ],
      "metadata": {
        "id": "nAj4oSIvM6q7",
        "colab": {
          "base_uri": "https://localhost:8080/"
        },
        "outputId": "d605f458-431f-4310-8a21-83833638efac"
      },
      "execution_count": 25,
      "outputs": [
        {
          "output_type": "stream",
          "name": "stdout",
          "text": [
            "Mounted at /content/drive\n"
          ]
        }
      ]
    },
    {
      "cell_type": "code",
      "source": [
        "import glob"
      ],
      "metadata": {
        "id": "jYHbj8b7NWyC"
      },
      "execution_count": 26,
      "outputs": []
    },
    {
      "cell_type": "code",
      "source": [
        "data_path = glob.glob('/content/drive/MyDrive/my_data/my_mnist/*')\n",
        "data_path"
      ],
      "metadata": {
        "id": "rOmi6LouNOSI",
        "colab": {
          "base_uri": "https://localhost:8080/"
        },
        "outputId": "107bced0-e4be-462d-eeba-55f4b4f66b9a"
      },
      "execution_count": 27,
      "outputs": [
        {
          "output_type": "execute_result",
          "data": {
            "text/plain": [
              "[]"
            ]
          },
          "metadata": {},
          "execution_count": 27
        }
      ]
    },
    {
      "cell_type": "code",
      "source": [
        "mydata_y = []\n",
        "\n",
        "for image_file in data_path :\n",
        "    # print(path[40:41])\n",
        "    mydata_y.append(int(image_file[40:41]))"
      ],
      "metadata": {
        "id": "yoqFHUEBRJsf"
      },
      "execution_count": 28,
      "outputs": []
    },
    {
      "cell_type": "code",
      "source": [
        "mydata_y_ts = torch.tensor(mydata_y, dtype=torch.long)"
      ],
      "metadata": {
        "id": "lK0PtkwvXKCQ"
      },
      "execution_count": 29,
      "outputs": []
    },
    {
      "cell_type": "code",
      "source": [
        "from PIL import Image\n",
        "from torchvision.transforms import PILToTensor"
      ],
      "metadata": {
        "id": "-d9Q4M9ITmGv"
      },
      "execution_count": 30,
      "outputs": []
    },
    {
      "cell_type": "code",
      "source": [
        "mydata_x = []\n",
        "\n",
        "for image_file in data_path :\n",
        "    temp = Image.open(image_file)\n",
        "    temp = temp.resize((28,28))\n",
        "    temp = temp.convert('L')\n",
        "    temp = PILToTensor()(temp)\n",
        "    temp = temp.type(torch.float32)\n",
        "    # print(temp.dtype)\n",
        "    mydata_x.append(temp)"
      ],
      "metadata": {
        "id": "iGh-Duk4Tn06"
      },
      "execution_count": 31,
      "outputs": []
    },
    {
      "cell_type": "code",
      "source": [
        "mydata_x_ts = torch.stack(mydata_x)\n",
        "mydata_x_ts.shape"
      ],
      "metadata": {
        "id": "EOD5-ZX91a_G",
        "colab": {
          "base_uri": "https://localhost:8080/",
          "height": 167
        },
        "outputId": "5701c193-50f7-4559-8f2c-d746543abe90"
      },
      "execution_count": 32,
      "outputs": [
        {
          "output_type": "error",
          "ename": "RuntimeError",
          "evalue": "stack expects a non-empty TensorList",
          "traceback": [
            "\u001b[0;31m---------------------------------------------------------------------------\u001b[0m",
            "\u001b[0;31mRuntimeError\u001b[0m                              Traceback (most recent call last)",
            "\u001b[0;32m<ipython-input-32-a5af51bf8bcf>\u001b[0m in \u001b[0;36m<cell line: 1>\u001b[0;34m()\u001b[0m\n\u001b[0;32m----> 1\u001b[0;31m \u001b[0mmydata_x_ts\u001b[0m \u001b[0;34m=\u001b[0m \u001b[0mtorch\u001b[0m\u001b[0;34m.\u001b[0m\u001b[0mstack\u001b[0m\u001b[0;34m(\u001b[0m\u001b[0mmydata_x\u001b[0m\u001b[0;34m)\u001b[0m\u001b[0;34m\u001b[0m\u001b[0;34m\u001b[0m\u001b[0m\n\u001b[0m\u001b[1;32m      2\u001b[0m \u001b[0mmydata_x_ts\u001b[0m\u001b[0;34m.\u001b[0m\u001b[0mshape\u001b[0m\u001b[0;34m\u001b[0m\u001b[0;34m\u001b[0m\u001b[0m\n",
            "\u001b[0;31mRuntimeError\u001b[0m: stack expects a non-empty TensorList"
          ]
        }
      ]
    },
    {
      "cell_type": "code",
      "source": [
        "from torch.utils.data import TensorDataset"
      ],
      "metadata": {
        "id": "Dyrsvy2WSAy2"
      },
      "execution_count": null,
      "outputs": []
    },
    {
      "cell_type": "code",
      "source": [
        "mydataset = TensorDataset(mydata_x_ts, mydata_y_ts)"
      ],
      "metadata": {
        "id": "tW5rVkyNVNl7"
      },
      "execution_count": null,
      "outputs": []
    },
    {
      "cell_type": "code",
      "source": [
        "for x, y in mydataset :\n",
        "    print(x)\n",
        "    print(y)\n",
        "    break"
      ],
      "metadata": {
        "id": "MNLIdhE5SA1R"
      },
      "execution_count": null,
      "outputs": []
    },
    {
      "cell_type": "code",
      "source": [
        "mydataset[0][0].shape"
      ],
      "metadata": {
        "id": "hLtCgbT-3UAQ"
      },
      "execution_count": null,
      "outputs": []
    },
    {
      "cell_type": "code",
      "source": [
        "mydataset[0][1].item()"
      ],
      "metadata": {
        "id": "hp7bWhZp3PV8"
      },
      "execution_count": null,
      "outputs": []
    },
    {
      "cell_type": "code",
      "source": [
        "# for i in range(30) :\n",
        "#     print(mydataset[i][0].dtype)\n",
        "#     print(mydataset[i][1].dtype)"
      ],
      "metadata": {
        "id": "09FDmB3Z5bza"
      },
      "execution_count": null,
      "outputs": []
    },
    {
      "cell_type": "code",
      "source": [
        "model.eval()\n",
        "\n",
        "for i in range(40) :\n",
        "    temp_x, temp_y = mydataset[i][0].view((-1,1,28,28)), mydataset[i][1]\n",
        "\n",
        "    with torch.no_grad() :\n",
        "        temp_x = temp_x.to(device)\n",
        "        y_pred = model(temp_x)\n",
        "\n",
        "        predicted = y_pred.argmax()\n",
        "        actual = temp_y\n",
        "\n",
        "        print(f'Predicted: {predicted} | Actual: {actual}')"
      ],
      "metadata": {
        "id": "0jSBUIct4bDm"
      },
      "execution_count": null,
      "outputs": []
    },
    {
      "cell_type": "code",
      "source": [
        "model.eval()\n",
        "\n",
        "figure = plt.figure(figsize=(16, 16))\n",
        "cols, rows = 5, 8\n",
        "\n",
        "for i in range(1, cols*rows+1) :\n",
        "    figure.add_subplot(rows, cols, i)\n",
        "\n",
        "    x, y = mydataset[i-1][0].view((-1,1,28,28)), mydataset[i-1][1]\n",
        "\n",
        "    with torch.no_grad() :\n",
        "        x = x.to(device)\n",
        "        y_pred = model(x)\n",
        "\n",
        "        predicted = y_pred.argmax()\n",
        "        actual = y\n",
        "\n",
        "    plt.title(f'Predicted: {predicted} | Actual: {actual}')\n",
        "    plt.axis(\"off\")\n",
        "    plt.imshow(x.squeeze(), cmap=\"gray\")\n",
        "\n",
        "plt.show()"
      ],
      "metadata": {
        "id": "7xwrd0mv7-l_"
      },
      "execution_count": null,
      "outputs": []
    },
    {
      "cell_type": "code",
      "source": [],
      "metadata": {
        "id": "H8YRRbHa-P5b"
      },
      "execution_count": null,
      "outputs": []
    }
  ],
  "metadata": {
    "kernelspec": {
      "display_name": "Python 3",
      "name": "python3"
    },
    "language_info": {
      "codemirror_mode": {
        "name": "ipython",
        "version": 3
      },
      "file_extension": ".py",
      "mimetype": "text/x-python",
      "name": "python",
      "nbconvert_exporter": "python",
      "pygments_lexer": "ipython3",
      "version": "3.10.12"
    },
    "colab": {
      "provenance": []
    }
  },
  "nbformat": 4,
  "nbformat_minor": 0
}