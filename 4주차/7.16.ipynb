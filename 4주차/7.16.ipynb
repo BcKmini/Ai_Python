{
 "cells": [
  {
   "cell_type": "markdown",
   "metadata": {},
   "source": [
    "위치기반데이터처리"
   ]
  },
  {
   "cell_type": "markdown",
   "metadata": {},
   "source": [
    "목차\n",
    "⚫ GIS란?\n",
    "⚫ geopandas\n",
    "⚫ Folium"
   ]
  },
  {
   "cell_type": "markdown",
   "metadata": {},
   "source": [
    "## 1. GIS란? -> 지리정보시스템"
   ]
  },
  {
   "cell_type": "markdown",
   "metadata": {},
   "source": [
    "❖ GIS(Geographic Information System)\n",
    "▪ 인간생활에 필요한 지리 정보를 컴퓨터 데이터로 변환하여 효율적으로 활\n",
    "용하기 위한 정보시스템\n",
    "▪ 즉, 지리 정보의 관측과 수집에서부터 보존과 분석, 출력에 이르기까지의\n",
    "일련의 조작을 위한 정보시스템\n",
    "\n",
    "▪ GIS는 지리적 위치를 갖고 있는 대상에 대한 위치 자료와(spatial\n",
    "data)와 속성 자료(attribute data)를"
   ]
  },
  {
   "cell_type": "markdown",
   "metadata": {},
   "source": [
    "❖ Vector 데이터\n",
    "▪ Point\n",
    "• 시설, 건물, 교차로 등\n",
    "▪ Line\n",
    "• 도로, 경로, 네트워크\n",
    "• 철도 등\n",
    "▪ Polygon\n",
    "• 지역, 군, 영역 등\n",
    "\n",
    "❖ Raster 데이터\n",
    "▪ 이미지 형태의 데이터"
   ]
  },
  {
   "cell_type": "markdown",
   "metadata": {},
   "source": [
    "Python 기반 주요 라이브러리\n",
    "\n",
    "❖ geopandas\n",
    "▪ pandas와 유사한 라이브러리로 공간 정보를 가진 데이터 프레임을 다루는\n",
    "데 유용한 패키지\n",
    "▪ pandas처럼 GeoSeries, GeoDataFrame의 타입으로 다루며 function이\n",
    "나 attribute들도 큰 차이가 없음\n",
    "▪ shapely와 연계되어 있음\n",
    "\n",
    "❖ folium\n",
    "▪ Open Street Map과 같은 지도 데이터에 ‘Leaflet.js’를 이용하여 위치\n",
    "정보를 시각화하기 위한 인터랙티브 라이브러리\n",
    "▪ 기본적으로 GeoJSON(http://GeoJSON.org/) 형식 또는 topoJSON 형식의\n",
    "로 데이터를 지정하면, 오버레이를 통해 여러 가지 형태로 위치 정보를\n",
    "지도상에 표현할 수 있음\n",
    "\n",
    "Shapefiles\n",
    "❖ 공간(지리) 정보를 벡터 데이터 포맷으로 저장한 파일\n",
    "❖ 파일의 종류\n",
    "▪ *.shp: 기하구조(geometry)가 포함된 파일(*.geojson, *.csv)\n",
    "▪ *.shx: 기하구조(geometry)의 인덱스 파일\n",
    "▪ *.dbf: 각 기하구조의 특성 또는 속성이 테이블 포맷으로 저장된 파일\n",
    "▪ *.prj: 좌표계 정의 파일\n",
    "\n",
    "좌표계(CRS: Coordinate Reference System)\n",
    "❖ 지구상의 한 점을 위도와 경도의 조합으로 나타내는 좌표 체계\n",
    "\n",
    "❖ 좌표계의 종류\n",
    "▪ WGS84(EPSG:4326): GPS가 사용하는 좌표계(경도와 위도)\n",
    "▪ Bessel 1841(EPSG:4004): 한국과 일본에 잘 맞는 지역 타원체를 사용한 좌\n",
    "표기\n",
    "▪ GRS80 UTM-K(EPSG:5179): 한반도 전체를 하나의 좌표계로 나타낼 때 많이\n",
    "사용하는 좌표계\n",
    "• 네이버 지도 => 통계청 지리 정보 좌표계 : UTM-K(GRS80타원체)(EPSG5179)\n",
    "▪ GRS80 중부원점(EPSG:5181): 과거 지리원 좌표계에서 타원체 문제를 수정한\n",
    "좌표계\n",
    "• 다음 카카오 지도\n",
    "▪ Web mercator projection(Pseudo-Mercator, EPSG:3857) : 구글 지도/비에 지\n",
    "도/야후 지도/OSM 등에서 사용 중인 좌표계\n",
    "▪ Albers projection(EPSG:9822) : 미국 지질 조사국에서 사용하는 좌표계"
   ]
  },
  {
   "cell_type": "markdown",
   "metadata": {},
   "source": [
    "## 2. geopandas"
   ]
  },
  {
   "cell_type": "code",
   "execution_count": null,
   "metadata": {},
   "outputs": [],
   "source": [
    "!pip install wheel\n",
    "!pip install pipwin\n",
    "!pipwin install numpy\n",
    "!pipwin install pandas\n",
    "!pipwin install shapely\n",
    "!pipwin install gdal\n",
    "!pipwin install Fiona\n",
    "!pipwin install pyproj\n",
    "!pipwin install six\n",
    "!pipwin install rtree\n",
    "!pipwin install Descartes\n",
    "!pipwin install mapclassify\n",
    "!pipwin install geopandas\n",
    "!pipwin install geopy"
   ]
  },
  {
   "cell_type": "markdown",
   "metadata": {},
   "source": [
    "❖ shapely\n",
    "▪ 평면 기하학적 객체의 조작 및 분석을 위한 Python 패키지\n",
    "▪ Python 3.6 이상, GEOS 3.3 이상을 요구\n",
    "• GEOS : 오픈소스 Geometry 엔진(C++ 라이브러리)\n",
    "❖ 참고 사이트\n",
    "▪ https://shapely.readthedocs.io/en/stable/manual.html"
   ]
  },
  {
   "cell_type": "code",
   "execution_count": null,
   "metadata": {},
   "outputs": [],
   "source": [
    "# pioint\n",
    "from shapely.geometry import Point \n",
    "point = Point(2.0, 2.0)\n",
    "point"
   ]
  },
  {
   "cell_type": "code",
   "execution_count": null,
   "metadata": {},
   "outputs": [],
   "source": [
    "# MultiPoint\n",
    "from shapely.geometry import MultiPoint \n",
    "points = MultiPoint([(0,0), (3,3)]) \n",
    "points"
   ]
  },
  {
   "cell_type": "code",
   "execution_count": null,
   "metadata": {},
   "outputs": [],
   "source": [
    "# LineString\n",
    "from shapely.geometry import LineString \n",
    "line = LineString([(0,0), (10,10)]) \n",
    "line"
   ]
  },
  {
   "cell_type": "code",
   "execution_count": null,
   "metadata": {},
   "outputs": [],
   "source": [
    "#LinearRing\n",
    "from shapely.geometry.polygon import LinearRing \n",
    "ring = LinearRing([(0,0), (3,3), (3,0)])\n",
    "ring"
   ]
  },
  {
   "cell_type": "code",
   "execution_count": null,
   "metadata": {},
   "outputs": [],
   "source": [
    "# MultiLineString\n",
    "from shapely.geometry import MultiLineString\n",
    "coords = MultiLineString([((0,0), (1,1)),((-1,0), (1,0))]) \n",
    "coords"
   ]
  },
  {
   "cell_type": "code",
   "execution_count": null,
   "metadata": {},
   "outputs": [],
   "source": [
    "# Polygon\n",
    "from shapely.geometry import Polygon\n",
    "p2 = Polygon(((6,6), (7,6), (10,4), (11,8), (6,6))) \n",
    "p2"
   ]
  },
  {
   "cell_type": "code",
   "execution_count": null,
   "metadata": {},
   "outputs": [],
   "source": [
    "# MultiPolygon\n",
    "from shapely.geometry import MultiPolygon \n",
    "polygons = MultiPolygon([p1,p2]) \n",
    "polygons"
   ]
  },
  {
   "cell_type": "code",
   "execution_count": null,
   "metadata": {},
   "outputs": [],
   "source": [
    "# 공간함수\n",
    "from shapely.geometry import Polygon\n",
    "p1 = Polygon(((1,2), (5,3), (5,7), (1,9), (1,2)))\n",
    "print(p1.area)      # 면적    구하기\n",
    "print(p1.bounds)    # 경계    구하기\n",
    "print(p1.length)    # 길이    구하기 \n",
    "p1"
   ]
  },
  {
   "cell_type": "markdown",
   "metadata": {},
   "source": [
    "geopandas 실습용    데이터셋\n",
    "1. 세계지도(1)"
   ]
  },
  {
   "cell_type": "code",
   "execution_count": null,
   "metadata": {},
   "outputs": [],
   "source": [
    "import geopandas as gpd\n",
    "countries = gpd.datasets.get_path('naturalearth_lowres')\n",
    "country = gpd.GeoDataFrame.from_file(countries)\n",
    "country.head()\n",
    "\n",
    "'''\n",
    "▪  pop_est: 국가별    인구    추정치\n",
    "▪ gdp_md_est: 국가별 GDP 추정치\n",
    "'''"
   ]
  },
  {
   "cell_type": "code",
   "execution_count": null,
   "metadata": {},
   "outputs": [],
   "source": [
    "import geopandas as gpd\n",
    "cities = gpd.datasets.get_path('naturalearth_cities')\n",
    "city = gpd.GeoDataFrame.from_file(cities)\n",
    "city.head()"
   ]
  },
  {
   "cell_type": "code",
   "execution_count": null,
   "metadata": {},
   "outputs": [],
   "source": [
    "import geopandas as gpd\n",
    "countries = gpd.datasets.get_path('naturalearth_lowres')\n",
    "country = gpd.GeoDataFrame.from_file(countries)\n",
    "country.geom_type"
   ]
  },
  {
   "cell_type": "code",
   "execution_count": null,
   "metadata": {},
   "outputs": [],
   "source": [
    "import geopandas as gpd\n",
    "countries = gpd.datasets.get_path('naturalearth_lowres') \n",
    "country = gpd.GeoDataFrame.from_file(countries)\n",
    "print(country.geometry[113]) \n",
    "country.geometry[113]"
   ]
  },
  {
   "cell_type": "code",
   "execution_count": null,
   "metadata": {},
   "outputs": [],
   "source": [
    "import geopandas as gpd\n",
    "countries = gpd.datasets.get_path('naturalearth_lowres') \n",
    "country = gpd.GeoDataFrame.from_file(countries)\n",
    "korea = country[country.name == 'South Korea'].geometry \n",
    "korea.boundary.squeeze()"
   ]
  },
  {
   "cell_type": "markdown",
   "metadata": {},
   "source": [
    "### geopandas.GeoDataFrame.plot()\n",
    "\n",
    "\n",
    "❖ plot(column, kind=‘geo’, cmap=None, ax=None, categorical=False, legend=False, scheme=None, k=5, figsize=None)  \n",
    "• column: DataFrame의 column  \n",
    "• kind:  \n",
    "− ‘geo’, ‘line’, ‘bar’, ‘barh’, ‘hist’, ‘box’, ‘kde’, ‘density’, ‘area’, ‘pie’,‘scatter’  \n",
    "• cmap: matplotlib의 colormap 이름   \n",
    "• ax: matplotlib.pyplot.Artist  \n",
    "• categorical: cmap이 숫자 값에 영향을 받음(숫자가 아니면 True)  \n",
    "• legend: 범례 출력 여부 \n",
    "\n",
    "• scheme: 등치 분류체계  \n",
    "− 'BoxPlot', 'EqualInterval', 'FisherJenks', 'FisherJenksSampled',   'HeadTailBreaks',  \n",
    "'JenksCaspall', 'JenksCaspallForced', 'JenksCaspallSampled', 'MaximumPampled',  \n",
    "'NaturalBreaks', 'Quantiles', 'Percentiles', 'StdMean', 'UserDefined'  \n",
    "\n",
    "• k: 클래스의 개수  \n",
    "• figsize: 크기 지정(tuple)  "
   ]
  },
  {
   "cell_type": "code",
   "execution_count": null,
   "metadata": {},
   "outputs": [],
   "source": [
    "#셰계지도 그리기\n",
    "import geopandas as gpd\n",
    "import matplotlib.pyplot as plt\n",
    "countries = gpd.datasets.get_path('naturalearth_lowres') \n",
    "world = gpd.GeoDataFrame.from_file(countries)\n",
    "ax = world.plot(figsize=(10,10), column=\"continent\", legend=True)\n",
    "\n",
    "ax.set_title(\"World\") \n",
    "ax.set_axis_off() \n",
    "plt.show()"
   ]
  },
  {
   "cell_type": "markdown",
   "metadata": {},
   "source": [
    "❖ 참고: Encoding 방식\n",
    "▪ ASCII / ANSI\n",
    "• ASCII는 7비트로 한 문자를 표현하는 방식\n",
    "• ANSI는 8비트로 한 문자를 표현하는 방식\n",
    "▪ UTF-8 / UTF-16\n",
    "• UTF-8은 유니코드 한 글자를 8bit(1byte)로 표현하는 인코딩 방식이고 한 문\n",
    "자를 표현할 때 1-4bytes의 가변 길이 인코딩 방식(Variable-width\n",
    "encoding).\n",
    "• UTF-16은 한 문자를 나타내는데 2 또는 4 바이트를 사용하는 가변 길이 인코\n",
    "딩 방식\n",
    "▪ EUC-KR / CP949\n",
    "• EUC-KR은 한글 표현을 위한 것으로 한글을 2byte를 표현하며, 가변 길이 인코딩\n",
    "방식\n",
    "• CP949는 EUC-KR의 확장이며 euc-kr에서 표현할 수 없는 한글도 표현할 수 있\n",
    "음. 따라서 cp949를 euc-kr로 인코딩 할 수 있지만, euc-kr을 cp949로 인코\n",
    "딩 하는 것은 안됨"
   ]
  },
  {
   "cell_type": "markdown",
   "metadata": {},
   "source": [
    "## 3. Folium"
   ]
  },
  {
   "cell_type": "markdown",
   "metadata": {},
   "source": [
    "❖  설치\n",
    "▪  pip install folium\n",
    "❖ 청주시 지도 출력하기"
   ]
  },
  {
   "cell_type": "code",
   "execution_count": null,
   "metadata": {},
   "outputs": [],
   "source": [
    "import folium\n",
    "m = folium.Map(location=[36.6421169, 127.4891742], zoom_start=13) \n",
    "m"
   ]
  },
  {
   "cell_type": "code",
   "execution_count": null,
   "metadata": {},
   "outputs": [],
   "source": [
    "#참고: geopy로 위치정보 가져오기\n",
    "from geopy.geocoders import Nominatim \n",
    "# 노미나팀(nominatim) : 지명, 임명\n",
    "app = Nominatim(user_agent=\"user_agent\", timeout=None) \n",
    "location = app.geocode('청주시')\n",
    "location"
   ]
  },
  {
   "cell_type": "markdown",
   "metadata": {},
   "source": [
    "❖ folium.Map(location=None, width='100%’, height='100%’,\n",
    "tiles='OpenStreetMap’, zoom_start=10, ...)\n",
    "▪  location : 시작    위치(위도, 경도)  \n",
    "▪  width, height : 출력    크기  \n",
    "▪  tiles : 지도    스타일  \n",
    "−    Open street map (기본값)   \n",
    "−    Map Quest Open  \n",
    "−    Mapbox Bright  \n",
    "−    Stamenterrain  \n",
    "−    Stamentoner  \n",
    "−    cartodbpositron 등  \n",
    "▪  zoom_start : 시작    스케일  "
   ]
  },
  {
   "cell_type": "code",
   "execution_count": 1,
   "metadata": {},
   "outputs": [
    {
     "name": "stdout",
     "output_type": "stream",
     "text": [
      "Requirement already satisfied: openpyxl in c:\\users\\akkn9\\appdata\\local\\programs\\python\\python312\\lib\\site-packages (3.1.5)\n",
      "Requirement already satisfied: et-xmlfile in c:\\users\\akkn9\\appdata\\local\\programs\\python\\python312\\lib\\site-packages (from openpyxl) (1.1.0)\n"
     ]
    }
   ],
   "source": [
    "!pip install openpyxl"
   ]
  }
 ],
 "metadata": {
  "kernelspec": {
   "display_name": "Python 3",
   "language": "python",
   "name": "python3"
  },
  "language_info": {
   "codemirror_mode": {
    "name": "ipython",
    "version": 3
   },
   "file_extension": ".py",
   "mimetype": "text/x-python",
   "name": "python",
   "nbconvert_exporter": "python",
   "pygments_lexer": "ipython3",
   "version": "3.12.4"
  }
 },
 "nbformat": 4,
 "nbformat_minor": 2
}
