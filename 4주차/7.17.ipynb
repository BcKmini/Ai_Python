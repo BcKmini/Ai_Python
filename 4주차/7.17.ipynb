{
 "cells": [
  {
   "cell_type": "markdown",
   "metadata": {},
   "source": [
    "### 기계합습의 개념 및 소개, 학습과 데이터 -15차시"
   ]
  },
  {
   "cell_type": "markdown",
   "metadata": {},
   "source": [
    "강의 주제:\n",
    "• 기계학습 소개  \n",
    "⁻ 기계학습 정의, 역사, 응용 분야  \n",
    "• 학습 방법의 종류  \n",
    "⁻ 지도, 비지도, 강화 학습  \n",
    "• 인공지능을 활용하여 풀 수 있는 문제  \n",
    "⁻ 분류, 회귀, 군집화  \n",
    "• 학습과 데이터  \n",
    "⁻ 용어 정리  \n",
    "• 과대 적합, 과소 적합  "
   ]
  },
  {
   "cell_type": "markdown",
   "metadata": {},
   "source": [
    "### 기계학습이란? \n",
    "\n",
    "• [학습]의 사전적 정의\n",
    "⁻ “경험의 결과로 나타나는, 비교적 지속적인 행동의 변화나 그 잠재력의 변화. 또는 지식을 습득하는 과정 [국립국어원, 2021]”\n",
    "\n",
    "\n",
    "• 기계학습(머신 러닝, machine learning)의 정의\n",
    "⁻ 아서 사무엘(Arthur Samuel)\n",
    "• 1959년 최초 정의, “명시적으로 프로그램을 작성하지 않고 컴퓨터에 학습할 수 있는 능력을 부여하기 위한\n",
    "연구 분야”\n",
    "⁻ 미첼(Tom M. Mitchell)\n",
    "• “A computer program is said to learn from experience E with respect to some class of tasks T\n",
    "and performance measure P if its performance at tasks in T, as measured by P, improves with\n",
    "experience E.”\n",
    "• “컴퓨터 프로그램이 어떤 작업 T와 평가 척도 P에 대해서 경험 E로부터 학습한다는 것은, P에 의해 평가되는 작업 T에 있어서의 성능이 경험 E에 의해 개선되는 경우를 말한다”"
   ]
  },
  {
   "cell_type": "markdown",
   "metadata": {},
   "source": [
    "• 기계학습(machine learning)\n",
    "⁻ 패턴인식과 컴퓨터 학습 이론의 연구로부터 진화한 분야\n",
    "⁻ 경험적 데이터를 기반으로 학습을 하고 예측을 수행하고 스스로의 성능을 향상시키는 시스템과 이를 위한 알고리즘  \n",
    "\n",
    "• 인공지능(artificial intelligence)\n",
    "⁻ 기계 주어진 지능\n",
    "⁻ 지능을 만들 수 있는 방법론이나 실현 가능성 등을 연구하는 분야\n",
    "⁻ 기계가 지능을 가지기 위해 학습을 수행\n",
    "\n",
    "• 딥러닝(deep learning)\n",
    "⁻ 특별한 종류의 기계학습 방법\n",
    "⁻ 매우 강력하고, 유연(flexible) 한 학습이 가능"
   ]
  },
  {
   "cell_type": "markdown",
   "metadata": {},
   "source": [
    "### 기계학습  응용  분야 \n",
    "• 시집  ‘햇살은  유리창을  잃고(Sunshine Misses Windows)’ \n",
    "\n",
    "⁻   마이크로소프트가 개발한 인공지능 기반의 챗봇 ‘샤오빙’\n",
    "\n",
    "⁻ 1920년대 이후 중국 현대 시인 519명의 작품 수천 편을 스스로 학습 \n",
    "\n",
    "⁻ 이를 바탕으로 1만여 편을 시를 작성 (2018년 8월 1,200만편 작성) \n",
    "\n",
    "⁻ 2017년 5월, 139편을 추려 시집으로 출간\n",
    "Wings hold rocks and water tightly \n",
    "(날개들이  바위와  물을 꼭  안고)\n",
    "In the loneliness \n",
    "(적막 속에서)\n",
    "Stroll the empty\n",
    "(인적 없는 곳을 거니노라니) \n",
    "The land becomes soft\n",
    "(땅이 부드럽게  변하네)\n",
    "\n",
    " 인공지능 = 사람이 할 수 있는 것을 기계가 \n",
    "할 수 있도록 하는 것 → 앞으로 인공지능의 \n",
    "응용 분야는 더욱 다양해 질 것이다\n",
    "\n",
    "\n",
    "• 기계학습은  어떤  분야, 어떤  경우에  활용할  수  있는가? \n",
    "⁻   복잡한 데이터들이 있고, 데이터에 기반하여 결정을 내려야 하는 분야\n",
    "⁻   영상 인식, 음성 인식처럼 프로그램으로 작성하기에는 규칙과 공식이 너무 복잡할 때\n",
    "⁻   주식 거래나 에너지 수요 예측, 쇼핑 추세 예측의 경우처럼 데이터 특징이 계속 바뀌고 프로그램을 계속해서 변경해야 하는 상황일 때\n"
   ]
  },
  {
   "cell_type": "markdown",
   "metadata": {},
   "source": [
    "### 학습방법\n",
    "\n",
    "1. 지도학습_ 분류, 회귀 (Data -> Targer) 정답을 알려주면서 학습하는 방법\n",
    "(데이터를 지도 학승 용 +  정답지도 만들어야 함) -> \n",
    "데이터 수집이 노가다, 어려움            \n",
    "\n",
    "2. 비지도학습_ 군집화(클러스터), 분포추정, 비지도변환\n",
    "\n",
    "3. 강화학습_  \n",
    "강화(Reinforcement)는 시행착오(Trial and Error)를 통해 학습하는 방법 중 하나를 의미한다. 이러한 강화를 바탕으로 강화학습은 실수와 보상을 통해 학습을 하여 목표를 찾아가는 알고리즘입니다. 기존의 신경망들이 라벨(정답)이 있는 데이터를 통해서 가중치와 편향을 학습하는 것과 비슷하게 보상(Reward)이라는 개념을 사용하여 가중치와 편향을 학습하는 것입니다. 목적은 최적의 행동양식 또는 정책을 학습하는 것입니다.\n",
    "\n",
    "3_1. 종류\n",
    "\n",
    "Model-Based Algorithm\n",
    "\n",
    "해당 알고리즘은 환경(Environment)에 대한 모든 설명(Description)을 알고 문제를 푸는 방법입니다.\n",
    "핵심은 직접 행동을 하지 않고, 최적의 솔루션을 찾을 수 있다는 점 입니다.\n",
    "모델은 상태(State)와 행동(Action)을 받아서 다음 상태와 보상을 예측합니다.\n",
    "모델은 Planning에 사용되며, 경험 전에 가능한 미래 상황을 고려하여 행동을 예측합니다.\n",
    "모델과 Planning을 사용하여 해결하는 방식을 Model-Based라고 합니다.\n",
    "\n",
    "\n",
    "Model-Free Algorithm\n",
    "\n",
    "해당 알고리즘은 Model-Based와 달리 환경(Environment)을 모르는 상태에서 직접 수행하는 방식입니다.\n",
    "에이전트(Agent)가 행동을 통해 보상 합의 기대값을 최대로 하는 Policy Function을 찾는 것입니다.\n",
    "환경에 대해 알지 못하고, 다음의 상태와 보상을 수동적으로 행동하여 얻습니다.\n",
    "환경 파악을 위해서 탐사(Exploration)을 합니다.\n",
    "탐사는 시행착오(Trial and Error)를 통해서 Policy Function을 점차적으로 학습시킵니다.\n",
    "\n",
    "\n",
    "3_2. 특징\n",
    "\n",
    "환경(Environment)에 대한 사전지식이 없는 상태로 학습을 진행합니다.\n",
    "보상을 통하여 학습을 합니다.\n",
    "컴퓨터가 선택한 행동(Action)에 대한 환경의 반응에 따라 보상이 주어집니다.\n",
    "행동의 결과로 나타나는 것이 보상이며 이것을 통하여 학습을 진행합니다.\n",
    "보상을 최대한 많이 얻도록 하는 행동을 유도하도록 학습을 진행합니다.\n",
    "\n",
    "강화학습이 해결 가능한 문제\n",
    "강화학습은 결정을 순차적으로 내려야 하는 문제에 적용을 합니다. 순차적으로 내려야 하는 문제를 정의하기 위해서는 MDP(Markov Decision Process)를 사용합니다.\n",
    "문제를 푸는 과정은 아래와 같은 순서로 풀게 됩니다.\n",
    "\n",
    "순차적 행동 문제를 MDP로 전환합니다.\n",
    "가치함수를 벨만 방정식으로 반복적 계산합니다.\n",
    "최적 가치함수와 최적 정책을 찾습니다.\n",
    "\n",
    "MP(Markov Process, Chain) : MP는 이산 시간이 진행함에 따라 상태가 확률적으로 변화하는 과정을 의미합니다. 시간 간격이 이산적이고 현재의 상태가 이전 상태에 영향을 받는 확률 과정입니다. 이것을 기초로하여 MDP가 정의됩니다.\n",
    "MDP(Markov Decision Process)\n",
    "\n",
    "\n",
    "\n"
   ]
  },
  {
   "cell_type": "markdown",
   "metadata": {},
   "source": [
    "### 인공지능을  활용하여  풀  수  있는  문제\n",
    "\n",
    "#### 인공지능, 머신 러닝 분야의 전통적인 응용 분야 : 분류, 회귀, 군집화\n",
    "\n",
    "• 분류  (Classification) 문제\n",
    "⁻   대상 객체를 특정 클래스(class, 종류)에 할당하는 것\n",
    "\n",
    "• 회귀  (Regression) 문제\n",
    "⁻   연속적인 변수들 간의  상관관계를 파악하는 것\n",
    "⁻   종속변수와 독립변수 사이의 연관성을 분석하여 예측\n",
    "\n",
    "• 군집화  (Clustering) 문제\n",
    "⁻   데이터를 유사한 특징을 가진 군집(cluster)로 모아주는 것"
   ]
  },
  {
   "cell_type": "markdown",
   "metadata": {},
   "source": [
    "### 분류  (Classification) -> 지도학습\n",
    "\n",
    "\n",
    "• ex) 숫자  인식  문제, 고양이와  개  인식  문제, \n",
    "스팸메일  여부  판단  문제  등\n",
    "\n",
    "• 알고리즘\n",
    "⁻   로지스틱 회귀 - Logistic Regression  \n",
    "⁻   서포트 벡터 머신 - SVM, Support Vector Machine   \n",
    "⁻   랜덤 포레스트 - Random Forest  \n",
    "⁻   의사결정 트리 - Decision Tree  \n",
    "⁻   그레이디언트 부스팅 트리 - G B T, Gradient Boosting Tree   \n",
    "⁻   SGD 분류기 - SGD Classifier  \n",
    "⁻   AdaBoost  \n",
    "⁻   인공신경망 – Artificial Neural Network  "
   ]
  },
  {
   "cell_type": "markdown",
   "metadata": {},
   "source": [
    "### 회귀  Regression -> 예측\n",
    "\n",
    "• ex) 주식  가격  예측  문제, 온도  예측  문제,\n",
    "제품  판매량  예측  문제,  Text -To -Speech 등\n",
    "\n",
    "• 알고리즘\n",
    "⁻   선형회귀 - Linear Regression  \n",
    "⁻   SGD 회귀 - Stochastic Gradient Descent Regression   \n",
    "⁻   서포트 벡터 회귀 - SVR, Support Vector Regression   \n",
    "⁻   랜덤 포레스트 회귀 - Random Forest Regression  \n",
    "⁻   베이지안 회귀 - Bayesian Regression   \n",
    "⁻   등위 회귀 - Isotonic Regression  \n",
    "⁻   베이지안 ARD 회귀 - Bayesian Automatic Relevance Determination Regression   \n",
    "⁻   인공신경망 – Artificial Neural Network  "
   ]
  },
  {
   "cell_type": "markdown",
   "metadata": {},
   "source": [
    "### 군집화  Clustering -> 비지도학습\n",
    "\n",
    "• ex) 좋아하는  음악  성향  군집화  문제, \n",
    "쇼핑몰에서  선호  제품  군집화  문제, \n",
    "맞춤  광고, 영상  분할  등\n",
    "\n",
    "• 알고리즘\n",
    "⁻   K-평균 - K-means  \n",
    "⁻   스펙트럼 군집화 - Spectral Clustering  \n",
    "⁻   가우시안 혼합 - Gaussian Mixtures  \n",
    "⁻   병합식 군집화 - Agglomerative Clustering   \n",
    "⁻   친근도 전파 - Affinity Propagation  \n",
    "⁻   평균 이동 - Mean Shift  \n",
    "⁻   자기조직화지도 – SOM, Self-Organizing Maps  "
   ]
  },
  {
   "cell_type": "markdown",
   "metadata": {},
   "source": [
    "### 데이터와  정보\n",
    "\n",
    "#### 데이터(data)_1차원, 2차원, 다차원\n",
    "⁻   현실 세계에서 단순히 관찰하거나 측정하여 수집한 사실(fact)이나 값(value), 자료\n",
    "\n",
    "#### 정보(information)\n",
    "⁻   데이터를 의사 결정에 유용하게 활용할 수 있도록 처리하여 체계적으로 조직한 결과물\n",
    "*용어 정의 출처: https://terms.naver.com/entry.nhn?docId=3431071&cid=58430&categoryId=5843026\n",
    "\n"
   ]
  },
  {
   "cell_type": "markdown",
   "metadata": {},
   "source": [
    "### 특징(features)\n",
    "• 특징이란  우리가  학습  모델에게  공급하는  입력 \n",
    "⁻   가장 간단한 경우에는 입력 자체가 특징\n",
    "\n",
    "⁻   예시\n",
    "• 이메일에  “검찰”이라는  문자  포함 여부( yes 또는  no )\n",
    "• 이메일에  “광고”, “선물  교환권”이나  “이벤트 당첨”  문자열  포함  여부( yes 또는  no )\n",
    "• 이메일의  제목이나  본문에  있는  ‘★’과 같은  특수  기호의  개수( 정수 )"
   ]
  },
  {
   "cell_type": "markdown",
   "metadata": {},
   "source": [
    "### 레이블과  샘플\n",
    "\n",
    "#### 레이블(label)\n",
    "⁻   y = f(X)에서 y 변수에 해당\n",
    "⁻   예를 들어서 농작물의 향후 가격, 사진에 표시되는 동물의 종류, 동영상의 의미 등 무엇이든지 레이 \n",
    "블이 될 수 있다.\n",
    "\n",
    "#### 샘플  또는  예제\n",
    "⁻   샘플은 기계 학습에 주어지는 특정한 예 \n",
    "⁻   y = f(X)에서 X에  해당\n",
    "⁻   레이블이 있는 샘플도 있고 레이블이 없는 샘플도 있음 \n",
    "⁻   지도 학습을 시키려면 레이블이 있어야 함"
   ]
  },
  {
   "cell_type": "markdown",
   "metadata": {},
   "source": [
    "### 데이터셋  Dataset\n",
    "\n",
    "• 학습(훈련) 데이터  (training or learning data) \n",
    "⁻   학습에 사용되는 데이터\n",
    "\n",
    "• 테스트(실험) 데이터  (test data) \n",
    "⁻   학습된 결과의 성능을 평가하기 위한 데이터\n",
    "⁻   테스트 데이터는 미지의 데이터 전체를 잘 대표할 수 있어야 한다.\n",
    "\n",
    "* 학습에  있어서  좋은 데이터란?\n",
    "ex) 개와 고양이 구분을 위한 좋은 데이터는..?"
   ]
  },
  {
   "cell_type": "markdown",
   "metadata": {},
   "source": [
    "### 학습, 테스트, 예측\n",
    "•  학습(learning)은  학습데이터를 이용하여 모델을 만들거나 배우는 것\n",
    "⁻   기계 학습은 항상 입력을 받아서 출력하는 함수 y=f(x)를  학습한다고 생각할 수 있음 (함수 근사)\n",
    "입력\n",
    "출력\n",
    "\n",
    "•  예측(prediction)은  학습된 모델을 레이블이 없는 샘플에 적용하는 것 \n",
    "⁻   즉  학습된 모델을 사용하여 유용한 예측(y')을  해내는 것\n",
    "\n",
    "•  테스트(test)는  테스트 데이터를 이용하여 학습된 모델의 성능을 평가하는 것 \n",
    "⁻   테스트 데이터에 대한 예측값과 레이블을 비교하여 성능 평가"
   ]
  },
  {
   "cell_type": "markdown",
   "metadata": {},
   "source": [
    "### 과대적합이란?\n",
    "과대적합(overfitting)이란 머신러닝 모델을 학습할 때 학습 데이터셋에 지나치게 최적화하여 발생하는 문제. 즉, 모델을 지나치게 복잡하게 학습하여 학습 데이터셋에서는 모델 성능이 높게 나타나지만 정작 새로운 데이터가 주어졌을 때 정확한 예측/분류를 수행하지 못함."
   ]
  },
  {
   "cell_type": "markdown",
   "metadata": {},
   "source": [
    "### 과대  적합을  피하는  방법?\n",
    "1.  더  많은  데이터를  활용하라!\n",
    "⁻       더 많은 데이터 = 더 많은 경우의 수를 포함 = 성능 향상\n",
    "⁻       기존의 데이터를 이용하여 유사한 데이터 생성(Data augmentation)\n",
    "\n",
    "2.  적절한  학습  방법을  사용  하라!\n",
    "⁻       학습에 사용된 알고리즘, 구조, 파라미터 등을 변경\n",
    "\n",
    "3.  다양한  학습  방법(앙상블)을  사용  하라!\n",
    "Ex) 10가지 서로 다른 학습 방법을 이용하여 데이터를 학습한다. \n",
    "각 학습 결과를 이용하여 입력에 대한 결과값을 얻는다.\n",
    "총 10가지  결과값 중  가장 많은 득표한 결과를 최종 결과로 설정한다.\n",
    "\n",
    "4.  그  외 다양한  학습  테크닉을  활용..\n",
    "Ex) 딥러닝의 학습 테크닉: Dropout, DropConnect, BatchNorm 등.."
   ]
  },
  {
   "cell_type": "markdown",
   "metadata": {},
   "source": [
    "### 결론적**으로 기계학습의  실용적  가치\n",
    "1.  프로그래밍 시간을 줄일 수  있다.\n",
    "⁻   예를 들어서 맞춤법 오류를 수정하는 프로그램을 개발하는 경우\n",
    "• 전통적인  방법: 많은  맞춤법  규칙을  이용하여  작성  -> 상당한  시간이  필요\n",
    "• 기계  학습  이용: 많은  예제만  있다면  학습시켜서  빠른  시간  안에  신뢰성  있는  프로그램을  완성\n",
    "2.  맞춤형 제품을 쉽게 개발할 수 있다.\n",
    "⁻   예를 들어서 한국어 맞춤법 수정 프로그램이 작성하여 가지고 있고, 이를 30개국 언어 버전으로 확장하 \n",
    "려는 경우\n",
    "• 전통적인  방법: 각  언어마다  새로  작성하려면  수년  이상의  엄청난  시간이  필요\n",
    "• 기계  학습  이용: 예제만  있으면  해결  가능\n",
    "3.  기계 학습은 프로그래머로 시도할 알고리즘이 떠오르지 않는 문제들을 해결할 수도 \n",
    "있다.\n",
    "⁻   예를 들어서 컴퓨터가 사람의 얼굴을 인식하는 프로그램을 작성\n",
    "• 전통적인  방법: 이런  문제를  작성하려면  컴퓨터  시각  분야의  수많은  지식과  경험이  필요한  작업\n",
    "• 기계  학습  이용: 프로그램에  수많은  예제만  보여주기만  하면  문제  해결"
   ]
  }
 ],
 "metadata": {
  "language_info": {
   "name": "python"
  }
 },
 "nbformat": 4,
 "nbformat_minor": 2
}
