{
  "nbformat": 4,
  "nbformat_minor": 0,
  "metadata": {
    "colab": {
      "provenance": []
    },
    "kernelspec": {
      "name": "python3",
      "display_name": "Python 3"
    },
    "language_info": {
      "name": "python"
    }
  },
  "cells": [
    {
      "cell_type": "code",
      "execution_count": null,
      "metadata": {
        "id": "5195O9SRJgLD"
      },
      "outputs": [],
      "source": [
        "# 구글 드라이브를 코랩 환경에 연결하여 파일을 저장하거나 읽을 수 있도록 설정\n",
        "from google.colab import drive\n",
        "drive.mount('/content/drive')"
      ]
    },
    {
      "cell_type": "code",
      "source": [
        "# streamlit과 pyngrok 라이브러리를 설치\n",
        "!pip install streamlit pyngrok -q"
      ],
      "metadata": {
        "id": "z31Z4a7DKFSh"
      },
      "execution_count": null,
      "outputs": []
    },
    {
      "cell_type": "code",
      "source": [
        "# 구글드라이브 > 내 드라이브 > Streamlit > app.py라는 파일을 생성하고\n",
        "# 이 파일에 Streamlit 애플리케이션 코드를 작성\n",
        "# 코드 수정 후, 셀을 실행해야 변경된 내용이 ooo.py 파일이 적용됨\n",
        "%%writefile /content/drive/MyDrive/Streamlit/app.py\n",
        "import streamlit as st\n",
        "st.write('# Hello World')\n",
        "st.write('## Run Streamlit on Colab with pyngrok ')\n",
        "st.write('### 😄😄😄')"
      ],
      "metadata": {
        "id": "-090Z7oHKkEe"
      },
      "execution_count": null,
      "outputs": []
    },
    {
      "cell_type": "markdown",
      "source": [
        "###**Streamlit 작성 파일 실행하기**###\n",
        "* **ngrok 인증 토큰 받는 방법**\n",
        "    * ngrok.com 사이트 가입 (Sign up)\n",
        "    * 좌측 Getting Started > Your Authtoken 메뉴 선택하여 토큰 번호 받음\n",
        "    * ngrok은 인터넷으로 터널을 만들어 로컬 개발 환경의 포트를 개방하고 애플리케이션의 외부 접근을 도와주는 터널 프로그램\n",
        "*   **ooo.py 파일을 수정했는 데 이전 결과가 그대로 나타남**  \n",
        "    * 코드 수정 후, 셀을 실행해야 변경된 내용이 ooo.py 파일이 적용됨\n",
        "\n",
        "* **아래 셀 실행결과가 아래와 같이 나타나면 좌측 url 주소(& <U>Visit Site 버튼</U> 클릭) 선택하여 결과 확인**\n",
        "    * NgrokTunnel: \"https://5c10-34-86-195-94.ngrok-free.app\" -> \"http://localhost:8501\""
      ],
      "metadata": {
        "id": "Md0sqlqol9u1"
      }
    },
    {
      "cell_type": "code",
      "source": [
        "from pyngrok import ngrok\n",
        "\n",
        "# ngrok 인증 토큰을 설정\n",
        "ngrok.set_auth_token(\"ngrok 인증토큰번호를 입력하세요\")\n",
        "\n",
        "# Streamlit 애플리케이션을 백그라운드에서 실행\n",
        "# ngrok을 통해 외부에서 접근 가능한 URL을 생성\n",
        "!streamlit run /content/drive/MyDrive/Streamlit/app.py&>/dev/null&\n",
        "url = ngrok.connect( addr='8501' )\n",
        "print(url)"
      ],
      "metadata": {
        "id": "Q76Q9fuhbhqD"
      },
      "execution_count": null,
      "outputs": []
    },
    {
      "cell_type": "markdown",
      "source": [
        "###**참조)**"
      ],
      "metadata": {
        "id": "r-QULA6Wvm0o"
      }
    },
    {
      "cell_type": "code",
      "source": [
        "# 실행 중인 세션 확인\n",
        "!ps"
      ],
      "metadata": {
        "id": "SAYV9JFUvm0o"
      },
      "execution_count": null,
      "outputs": []
    },
    {
      "cell_type": "code",
      "source": [
        "# 사용하는 라이브러리와 버전 확인하기\n",
        "!pip list"
      ],
      "metadata": {
        "id": "Ef1M_pxR0rCZ"
      },
      "execution_count": null,
      "outputs": []
    }
  ]
}