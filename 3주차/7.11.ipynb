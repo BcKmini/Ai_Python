{
 "cells": [
  {
   "cell_type": "markdown",
   "metadata": {},
   "source": [
    "pandas(2)\n",
    "-데이터 살펴보기\n",
    "-누락된 값 처리하기\n",
    "-데이터 분석을 위한 함수들\n",
    "-간단한 시각화"
   ]
  },
  {
   "cell_type": "markdown",
   "metadata": {},
   "source": [
    "#데이터 정보 살펴보기\n",
    "몇개의 행만 출력하기 df.head() / df.tail()\n",
    "\n",
    "데이터에 대한 정보 얻기 df.info()\n",
    "\n",
    "DataFrame의 계산가능한(수치데이터 컬럼) 통계보기 df.describe()\n",
    "\n",
    "#데이터 내용 살펴보기\n",
    "Series내의 데이터 개수(빈도수) 세기 df['column'].value_count()\n",
    "\n",
    "Series내의 unique한 값 보기 df['column'].unique()\n",
    "\n",
    "원하는 값의 존재유무 df['column'].isin(['alpha', 'beta'])"
   ]
  },
  {
   "cell_type": "code",
   "execution_count": 3,
   "metadata": {},
   "outputs": [
    {
     "name": "stdout",
     "output_type": "stream",
     "text": [
      "Requirement already satisfied: pandas in c:\\python\\lib\\site-packages (2.2.2)\n",
      "Requirement already satisfied: numpy>=1.26.0 in c:\\python\\lib\\site-packages (from pandas) (1.26.4)\n",
      "Requirement already satisfied: python-dateutil>=2.8.2 in c:\\users\\김경민\\appdata\\roaming\\python\\python312\\site-packages (from pandas) (2.9.0.post0)\n",
      "Requirement already satisfied: pytz>=2020.1 in c:\\python\\lib\\site-packages (from pandas) (2024.1)\n",
      "Requirement already satisfied: tzdata>=2022.7 in c:\\python\\lib\\site-packages (from pandas) (2024.1)\n",
      "Requirement already satisfied: six>=1.5 in c:\\users\\김경민\\appdata\\roaming\\python\\python312\\site-packages (from python-dateutil>=2.8.2->pandas) (1.16.0)\n"
     ]
    }
   ],
   "source": [
    "!pip install pandas"
   ]
  },
  {
   "cell_type": "code",
   "execution_count": 103,
   "metadata": {},
   "outputs": [
    {
     "name": "stdout",
     "output_type": "stream",
     "text": [
      "                   A         B         C\n",
      "2018-05-21  0.782459  0.923872 -0.810057\n",
      "2018-05-22  0.244368 -0.193028 -1.121423\n",
      "2018-05-23 -1.356290 -1.306931  0.614729\n",
      "2018-05-24 -1.278147  0.099316 -0.307040 \n",
      "\n",
      "                   A         B         C\n",
      "2018-05-21  0.782459  0.923872 -0.810057\n",
      "2018-05-22  0.244368 -0.193028 -1.121423\n",
      "2018-05-23 -1.356290 -1.306931  0.614729\n",
      "2018-05-24 -1.278147  0.099316 -0.307040 \n",
      "\n",
      "<class 'pandas.core.frame.DataFrame'>\n",
      "DatetimeIndex: 4 entries, 2018-05-21 to 2018-05-24\n",
      "Freq: D\n",
      "Data columns (total 3 columns):\n",
      " #   Column  Non-Null Count  Dtype  \n",
      "---  ------  --------------  -----  \n",
      " 0   A       4 non-null      float64\n",
      " 1   B       4 non-null      float64\n",
      " 2   C       4 non-null      float64\n",
      "dtypes: float64(3)\n",
      "memory usage: 128.0 bytes\n",
      "None \n",
      "\n",
      "(4, 3)\n"
     ]
    }
   ],
   "source": [
    "import numpy as np\n",
    "import pandas as pd\n",
    "\n",
    "dates = pd.date_range('20180521', periods=4)\n",
    "df = pd.DataFrame(np.random.randn(4, 3), index=dates, columns=list('ABC'))\n",
    "\n",
    "print(df.head(), '\\n')\n",
    "print(df.tail(), '\\n')\n",
    "print(df.info(), '\\n')\n",
    "print(df.shape)"
   ]
  },
  {
   "cell_type": "code",
   "execution_count": 109,
   "metadata": {},
   "outputs": [
    {
     "name": "stdout",
     "output_type": "stream",
     "text": [
      "              Year    Points\n",
      "count     5.000000  5.000000\n",
      "mean   2014.600000  2.440000\n",
      "std       1.140175  0.844393\n",
      "min    2013.000000  1.500000\n",
      "25%    2014.000000  1.800000\n",
      "50%    2015.000000  2.400000\n",
      "75%    2015.000000  2.900000\n",
      "max    2016.000000  3.600000\n",
      "   Name  Year  Points\n",
      "0   Lee  2013     1.5\n",
      "1   Lee  2014     1.8\n",
      "2  Choi  2015     3.6\n",
      "3   Kim  2016     2.4\n",
      "4  Park  2015     2.9\n",
      "(5, 3)\n"
     ]
    }
   ],
   "source": [
    "import numpy as np \n",
    "import pandas as pd\n",
    "# DataFrame 정의하기(dictionary 이용)\n",
    "data = {'Name': ['Lee', 'Lee', 'Choi', 'Kim', 'Park'],\n",
    "'Year': [2013, 2014, 2015, 2016, 2015], \n",
    "'Points': [1.5, 1.8, 3.6, 2.4, 2.9]}\n",
    "\n",
    "df = pd.DataFrame(data) \n",
    "print(df.describe())\n",
    "print(df.tail())\n",
    "print(df.shape)"
   ]
  },
  {
   "cell_type": "code",
   "execution_count": 8,
   "metadata": {},
   "outputs": [
    {
     "name": "stdout",
     "output_type": "stream",
     "text": [
      "Name\n",
      "Lee     2\n",
      "Choi    1\n",
      "Kim     1\n",
      "Park    1\n",
      "Name: count, dtype: int64 \n",
      "\n",
      "[2013 2014 2015 2016]\n"
     ]
    }
   ],
   "source": [
    "import numpy as np \n",
    "import pandas as pd\n",
    "# DataFrame 정의하기(dictionary 이용)\n",
    "data = {'Name': ['Lee', 'Lee', 'Choi', 'Kim', 'Park'],\n",
    "'Year': [2013, 2014, 2015, 2016, 2015], \n",
    "'Points': [1.5, 1.8, 3.6, 2.4, 2.9]}\n",
    "\n",
    "df = pd.DataFrame(data)\n",
    "print(df['Name'].value_counts(), '\\n') # 빈도수\n",
    "print(df['Year'].unique())"
   ]
  },
  {
   "cell_type": "code",
   "execution_count": 9,
   "metadata": {},
   "outputs": [
    {
     "name": "stdout",
     "output_type": "stream",
     "text": [
      "0    False\n",
      "1    False\n",
      "2    False\n",
      "3     True\n",
      "4    False\n",
      "Name: Name, dtype: bool\n"
     ]
    }
   ],
   "source": [
    "import numpy as np \n",
    "import pandas as pd\n",
    "# DataFrame 정의하기(dictionary 이용)\n",
    "data = {'Name': ['Lee', 'Lee', 'Choi', 'Kim', 'Park'],\n",
    "'Year': [2013, 2014, 2015, 2016, 2015], \n",
    "'Points': [1.5, 1.8, 3.6, 2.4, 2.9]}\n",
    "df = pd.DataFrame(data) \n",
    "print(df['Name'].isin(['Kim']))"
   ]
  },
  {
   "cell_type": "code",
   "execution_count": 10,
   "metadata": {},
   "outputs": [
    {
     "name": "stdout",
     "output_type": "stream",
     "text": [
      "  Name  Year  Points\n",
      "0  Lee  2013     1.5\n",
      "1  Lee  2014     1.8\n",
      "3  Kim  2016     2.4\n"
     ]
    }
   ],
   "source": [
    "import numpy as np \n",
    "import pandas as pd\n",
    "# DataFrame 정의하기(dictionary 이용)\n",
    "data = {'Name': ['Lee', 'Lee', 'Choi', 'Kim', 'Park'],\n",
    "'Year': [2013, 2014, 2015, 2016, 2015], \n",
    "'Points': [1.5, 1.8, 3.6, 2.4, 2.9]}\n",
    "df = pd.DataFrame(data)\n",
    "print(df.loc[df['Name'].isin(['Kim', 'Lee']), :])"
   ]
  },
  {
   "cell_type": "code",
   "execution_count": 110,
   "metadata": {},
   "outputs": [
    {
     "data": {
      "text/html": [
       "<div>\n",
       "<style scoped>\n",
       "    .dataframe tbody tr th:only-of-type {\n",
       "        vertical-align: middle;\n",
       "    }\n",
       "\n",
       "    .dataframe tbody tr th {\n",
       "        vertical-align: top;\n",
       "    }\n",
       "\n",
       "    .dataframe thead th {\n",
       "        text-align: right;\n",
       "    }\n",
       "</style>\n",
       "<table border=\"1\" class=\"dataframe\">\n",
       "  <thead>\n",
       "    <tr style=\"text-align: right;\">\n",
       "      <th></th>\n",
       "      <th>total_bill</th>\n",
       "      <th>tip</th>\n",
       "      <th>sex</th>\n",
       "      <th>smoker</th>\n",
       "      <th>day</th>\n",
       "      <th>time</th>\n",
       "      <th>size</th>\n",
       "    </tr>\n",
       "  </thead>\n",
       "  <tbody>\n",
       "    <tr>\n",
       "      <th>0</th>\n",
       "      <td>16.99</td>\n",
       "      <td>1.01</td>\n",
       "      <td>Female</td>\n",
       "      <td>No</td>\n",
       "      <td>Sun</td>\n",
       "      <td>Dinner</td>\n",
       "      <td>2</td>\n",
       "    </tr>\n",
       "    <tr>\n",
       "      <th>1</th>\n",
       "      <td>10.34</td>\n",
       "      <td>1.66</td>\n",
       "      <td>Male</td>\n",
       "      <td>No</td>\n",
       "      <td>Sun</td>\n",
       "      <td>Dinner</td>\n",
       "      <td>3</td>\n",
       "    </tr>\n",
       "    <tr>\n",
       "      <th>2</th>\n",
       "      <td>21.01</td>\n",
       "      <td>3.50</td>\n",
       "      <td>Male</td>\n",
       "      <td>No</td>\n",
       "      <td>Sun</td>\n",
       "      <td>Dinner</td>\n",
       "      <td>3</td>\n",
       "    </tr>\n",
       "    <tr>\n",
       "      <th>3</th>\n",
       "      <td>23.68</td>\n",
       "      <td>3.31</td>\n",
       "      <td>Male</td>\n",
       "      <td>No</td>\n",
       "      <td>Sun</td>\n",
       "      <td>Dinner</td>\n",
       "      <td>2</td>\n",
       "    </tr>\n",
       "    <tr>\n",
       "      <th>4</th>\n",
       "      <td>24.59</td>\n",
       "      <td>3.61</td>\n",
       "      <td>Female</td>\n",
       "      <td>No</td>\n",
       "      <td>Sun</td>\n",
       "      <td>Dinner</td>\n",
       "      <td>4</td>\n",
       "    </tr>\n",
       "    <tr>\n",
       "      <th>...</th>\n",
       "      <td>...</td>\n",
       "      <td>...</td>\n",
       "      <td>...</td>\n",
       "      <td>...</td>\n",
       "      <td>...</td>\n",
       "      <td>...</td>\n",
       "      <td>...</td>\n",
       "    </tr>\n",
       "    <tr>\n",
       "      <th>239</th>\n",
       "      <td>29.03</td>\n",
       "      <td>5.92</td>\n",
       "      <td>Male</td>\n",
       "      <td>No</td>\n",
       "      <td>Sat</td>\n",
       "      <td>Dinner</td>\n",
       "      <td>3</td>\n",
       "    </tr>\n",
       "    <tr>\n",
       "      <th>240</th>\n",
       "      <td>27.18</td>\n",
       "      <td>2.00</td>\n",
       "      <td>Female</td>\n",
       "      <td>Yes</td>\n",
       "      <td>Sat</td>\n",
       "      <td>Dinner</td>\n",
       "      <td>2</td>\n",
       "    </tr>\n",
       "    <tr>\n",
       "      <th>241</th>\n",
       "      <td>22.67</td>\n",
       "      <td>2.00</td>\n",
       "      <td>Male</td>\n",
       "      <td>Yes</td>\n",
       "      <td>Sat</td>\n",
       "      <td>Dinner</td>\n",
       "      <td>2</td>\n",
       "    </tr>\n",
       "    <tr>\n",
       "      <th>242</th>\n",
       "      <td>17.82</td>\n",
       "      <td>1.75</td>\n",
       "      <td>Male</td>\n",
       "      <td>No</td>\n",
       "      <td>Sat</td>\n",
       "      <td>Dinner</td>\n",
       "      <td>2</td>\n",
       "    </tr>\n",
       "    <tr>\n",
       "      <th>243</th>\n",
       "      <td>18.78</td>\n",
       "      <td>3.00</td>\n",
       "      <td>Female</td>\n",
       "      <td>No</td>\n",
       "      <td>Thur</td>\n",
       "      <td>Dinner</td>\n",
       "      <td>2</td>\n",
       "    </tr>\n",
       "  </tbody>\n",
       "</table>\n",
       "<p>244 rows × 7 columns</p>\n",
       "</div>"
      ],
      "text/plain": [
       "     total_bill   tip     sex smoker   day    time  size\n",
       "0         16.99  1.01  Female     No   Sun  Dinner     2\n",
       "1         10.34  1.66    Male     No   Sun  Dinner     3\n",
       "2         21.01  3.50    Male     No   Sun  Dinner     3\n",
       "3         23.68  3.31    Male     No   Sun  Dinner     2\n",
       "4         24.59  3.61  Female     No   Sun  Dinner     4\n",
       "..          ...   ...     ...    ...   ...     ...   ...\n",
       "239       29.03  5.92    Male     No   Sat  Dinner     3\n",
       "240       27.18  2.00  Female    Yes   Sat  Dinner     2\n",
       "241       22.67  2.00    Male    Yes   Sat  Dinner     2\n",
       "242       17.82  1.75    Male     No   Sat  Dinner     2\n",
       "243       18.78  3.00  Female     No  Thur  Dinner     2\n",
       "\n",
       "[244 rows x 7 columns]"
      ]
     },
     "execution_count": 110,
     "metadata": {},
     "output_type": "execute_result"
    }
   ],
   "source": [
    "import seaborn as sns\n",
    "\n",
    "df = sns.load_dataset('tips') # 데이터 가져오기\n",
    "df.describe() #통계데이터 볼 수 있다.\n",
    "df"
   ]
  },
  {
   "cell_type": "code",
   "execution_count": 22,
   "metadata": {},
   "outputs": [
    {
     "data": {
      "text/plain": [
       "sex\n",
       "Male      157\n",
       "Female     87\n",
       "Name: count, dtype: int64"
      ]
     },
     "execution_count": 22,
     "metadata": {},
     "output_type": "execute_result"
    }
   ],
   "source": [
    "df['sex'].value_counts() #좋다 이함수!! 잘 사용해보자 "
   ]
  },
  {
   "cell_type": "markdown",
   "metadata": {},
   "source": [
    "#누적된 값 처리하기 "
   ]
  },
  {
   "cell_type": "markdown",
   "metadata": {},
   "source": [
    "#Null 확인\n",
    "df.isnull() #모든 데이터의 NaN 여부 확인(True, False)\n",
    "\n",
    "1. Missing data dropping\n",
    "null값을 제거\n",
    "df.dropna(how='any') #행의 값이 하나라도 NaN인 경우에 제거\n",
    "df.dropna(how='all') #행의 값이 모두 NaN인 경우에만 제거\n",
    "\n",
    "2. Misiing data filling\n",
    "null이 아닌 값으로 대체\n",
    "df.fillna(value=0.05) #NaN값을 모두 0.05로 대체"
   ]
  },
  {
   "cell_type": "code",
   "execution_count": 23,
   "metadata": {},
   "outputs": [
    {
     "name": "stdout",
     "output_type": "stream",
     "text": [
      "                   A         B         C    D\n",
      "2020-10-21  2.022975  0.238798  0.257914  1.0\n",
      "2020-10-22  0.523067 -0.575610  0.291143  NaN\n",
      "2020-10-23 -0.153319  0.544597 -1.044930  3.5\n",
      "2020-10-24 -0.601958 -1.075885 -0.635440  6.1\n",
      "2020-10-25 -0.547268 -1.038123  0.145160  NaN\n",
      "2020-10-26 -0.759721 -0.611693 -0.286152  7.0 \n",
      "\n",
      "                A      B      C      D\n",
      "2020-10-21  False  False  False  False\n",
      "2020-10-22  False  False  False   True\n",
      "2020-10-23  False  False  False  False\n",
      "2020-10-24  False  False  False  False\n",
      "2020-10-25  False  False  False   True\n",
      "2020-10-26  False  False  False  False\n"
     ]
    }
   ],
   "source": [
    "import numpy as np \n",
    "import pandas as pd\n",
    "\n",
    "dates = pd.date_range('20201021', periods=6)\n",
    "df = pd.DataFrame(np.random.randn(6, 3), index=dates, columns=list('ABC')) \n",
    "df['D'] = [1.0, np.nan, 3.5, 6.1, np.nan, 7.0]\n",
    "print(df, '\\n') \n",
    "print(df.isnull())"
   ]
  },
  {
   "cell_type": "code",
   "execution_count": 24,
   "metadata": {},
   "outputs": [
    {
     "name": "stdout",
     "output_type": "stream",
     "text": [
      "                   A         B         C    D\n",
      "2020-10-21  0.266852 -0.308568 -0.412947  1.0\n",
      "2020-10-22 -0.568779 -2.542322  0.575302  NaN\n",
      "2020-10-23 -0.387884  0.165717  1.121169  3.5\n",
      "2020-10-24  1.093006 -0.816249 -0.260889  NaN \n",
      "\n",
      "                   A         B         C    D\n",
      "2020-10-21  0.266852 -0.308568 -0.412947  1.0\n",
      "2020-10-23 -0.387884  0.165717  1.121169  3.5\n"
     ]
    }
   ],
   "source": [
    "import numpy as np \n",
    "import pandas as pd\n",
    "dates = pd.date_range('20201021', periods=4)\n",
    "df = pd.DataFrame(np.random.randn(4, 3), index=dates, columns=list('ABC')) \n",
    "df['D'] = [1.0, np.nan, 3.5, np.nan]\n",
    "print(df, '\\n')\n",
    "print(df.dropna(how='any'))"
   ]
  },
  {
   "cell_type": "code",
   "execution_count": 28,
   "metadata": {},
   "outputs": [
    {
     "name": "stdout",
     "output_type": "stream",
     "text": [
      "                   A         B         C    D\n",
      "2020-10-21  0.546565  0.948612 -1.398810  NaN\n",
      "2020-10-22  1.505603 -2.214733  0.248142  NaN\n",
      "2020-10-23  0.032847  0.490697  3.141407  3.5\n",
      "2020-10-24  0.989680  0.159117 -0.032741  NaN \n",
      "\n",
      "                   A         B         C    D\n",
      "2020-10-21  0.546565  0.948612 -1.398810  NaN\n",
      "2020-10-22  1.505603 -2.214733  0.248142  NaN\n",
      "2020-10-23  0.032847  0.490697  3.141407  3.5\n",
      "2020-10-24  0.989680  0.159117 -0.032741  NaN\n"
     ]
    }
   ],
   "source": [
    "import numpy as np \n",
    "import pandas as pd\n",
    "\n",
    "dates = pd.date_range('20201021', periods=4)\n",
    "df = pd.DataFrame(np.random.randn(4, 3), index=dates, columns=list('ABC')) \n",
    "df['D'] = [np.nan, np.nan, 3.5, np.nan]\n",
    "print(df, '\\n')\n",
    "print(df.dropna(how='all'))"
   ]
  },
  {
   "cell_type": "code",
   "execution_count": 29,
   "metadata": {},
   "outputs": [
    {
     "name": "stdout",
     "output_type": "stream",
     "text": [
      "                   A         B         C    D\n",
      "2020-10-21  0.872040 -0.901876 -0.136268  1.0\n",
      "2020-10-22  0.070427 -1.303394  0.732455  NaN\n",
      "2020-10-23  1.589674 -0.459700 -1.061648  3.5\n",
      "2020-10-24 -0.640207  0.910887  0.811428  NaN \n",
      "\n",
      "                   A         B         C     D\n",
      "2020-10-21  0.872040 -0.901876 -0.136268  1.00\n",
      "2020-10-22  0.070427 -1.303394  0.732455  0.05\n",
      "2020-10-23  1.589674 -0.459700 -1.061648  3.50\n",
      "2020-10-24 -0.640207  0.910887  0.811428  0.05\n"
     ]
    }
   ],
   "source": [
    "import numpy as np \n",
    "import pandas as pd\n",
    "\n",
    "dates = pd.date_range('20201021', periods=4)\n",
    "df = pd.DataFrame(np.random.randn(4, 3), index=dates, columns=list('ABC')) \n",
    "df['D'] = [1.0, np.nan, 3.5, np.nan]\n",
    "print(df, '\\n')\n",
    "print(df.fillna(value=0.05))"
   ]
  },
  {
   "cell_type": "markdown",
   "metadata": {},
   "source": [
    "#데이터분석을 위한 함수들 \n",
    "\n",
    "1. Summarize Data\n",
    "▪   len(df) -> 항목개수 \n",
    "▪   sum(), count()\n",
    "▪   median(), min(), max(), mean(), var(), std(), corr(), cov()\n",
    "\n",
    "2. Reshape Data\n",
    "▪ pd.concat([df1,df2], axes=0)\n",
    "▪ pd.merge(df_left, df_right, left_on=None, right_on=None, on=None, \n",
    "how='inner')\n",
    "▪ df.pivot_table(index=‘var’, columns=‘var’, values=‘var’,\n",
    "aggfunc=‘func’)\n",
    "▪ df.sort_values(‘mpg’, ascending=False)\n",
    "▪ df.rename(columns={‘y’:‘year’})\n",
    "▪ df.drop()  df.drop_duplicates(inplace=True)\n",
    "\n",
    "3. Group Data\n",
    "▪ df.groupby(by=“col”) -> 특정 컬렁 그룹화"
   ]
  },
  {
   "cell_type": "code",
   "execution_count": 32,
   "metadata": {},
   "outputs": [
    {
     "name": "stdout",
     "output_type": "stream",
     "text": [
      "                   A         B         C    D\n",
      "2020-10-21  0.906234  1.738061  0.060544  1.0\n",
      "2020-10-22  0.327676  0.604124  0.036001  NaN\n",
      "2020-10-23  1.591111 -0.294770  0.332563  3.5\n",
      "2020-10-24  0.330612 -0.040837 -0.513843  6.1\n",
      "2020-10-25 -0.558449 -1.871425 -0.584795  NaN\n",
      "2020-10-26  0.104630 -0.241396  0.545281  7.0 \n",
      "\n",
      "#rows = 6, #rows = 6, #cols = 4\n"
     ]
    }
   ],
   "source": [
    "import numpy as np \n",
    "import pandas as pd\n",
    "\n",
    "dates = pd.date_range('20201021', periods=6)\n",
    "df = pd.DataFrame(np.random.randn(6, 3), index=dates, columns=list('ABC')) \n",
    "df['D'] = [1.0, np.nan, 3.5, 6.1, np.nan, 7.0]\n",
    "print(df, '\\n')\n",
    "print(f\"#rows = {len(df)}, #rows = {df.shape[0]}, #cols = {df.shape[1]}\")"
   ]
  },
  {
   "cell_type": "code",
   "execution_count": 115,
   "metadata": {},
   "outputs": [
    {
     "name": "stdout",
     "output_type": "stream",
     "text": [
      "                   A         B         C    D\n",
      "2020-10-21  0.124218  1.206254 -2.289006  1.0\n",
      "2020-10-22 -1.695598  0.406381 -0.837086  NaN\n",
      "2020-10-23  1.055157  0.438844 -0.410489  3.5\n",
      "2020-10-24  1.126536 -0.114382  1.643762  6.1\n",
      "2020-10-25 -0.524113  1.233980  0.495490  NaN\n",
      "2020-10-26 -0.731118 -0.834649  1.148970  7.0 \n",
      "\n",
      "A    -0.644919\n",
      "B     2.336426\n",
      "C    -0.248359\n",
      "D    17.600000\n",
      "dtype: float64 \n",
      "\n",
      "2020-10-21    0.041466\n",
      "2020-10-22   -2.126304\n",
      "2020-10-23    4.583511\n",
      "2020-10-24    8.755915\n",
      "2020-10-25    1.205356\n",
      "2020-10-26    6.583203\n",
      "Freq: D, dtype: float64 \n",
      "\n"
     ]
    }
   ],
   "source": [
    "import numpy as np \n",
    "import pandas as pd\n",
    "\n",
    "dates = pd.date_range('20201021', periods=6)\n",
    "df = pd.DataFrame(np.random.randn(6, 3), index=dates, columns=list('ABC')) \n",
    "df['D'] = [1.0, np.nan, 3.5, 6.1, np.nan, 7.0]\n",
    "print(df, '\\n') \n",
    "print(df.sum(axis=0), '\\n')\n",
    "print(df.sum(axis=1), '\\n')"
   ]
  },
  {
   "cell_type": "code",
   "execution_count": 37,
   "metadata": {},
   "outputs": [
    {
     "name": "stdout",
     "output_type": "stream",
     "text": [
      "                   A         B         C    D\n",
      "2020-10-21  0.663203 -0.203772 -0.056381  1.0\n",
      "2020-10-22 -0.024698 -0.760183  0.560080  NaN\n",
      "2020-10-23  0.592371  0.408966  1.760440  3.5\n",
      "2020-10-24  0.282460 -3.257064  0.341558  6.1\n",
      "2020-10-25 -0.062256  0.732368  0.435484  NaN\n",
      "2020-10-26  0.899989  0.130993 -0.561149  7.0 \n",
      "\n",
      "A    6\n",
      "B    6\n",
      "C    6\n",
      "D    4\n",
      "dtype: int64\n"
     ]
    }
   ],
   "source": [
    "import numpy as np \n",
    "import pandas as pd\n",
    "\n",
    "dates = pd.date_range('20201021', periods=6)\n",
    "df = pd.DataFrame(np.random.randn(6, 3), index=dates, columns=list('ABC')) \n",
    "df['D'] = [1.0, np.nan, 3.5, 6.1, np.nan, 7.0]\n",
    "print(df, '\\n') \n",
    "print(df.count()) #유효한 데이터의 개수가 몇개인가? nan데이터 미포함 "
   ]
  },
  {
   "cell_type": "code",
   "execution_count": 38,
   "metadata": {},
   "outputs": [
    {
     "data": {
      "text/html": [
       "<div>\n",
       "<style scoped>\n",
       "    .dataframe tbody tr th:only-of-type {\n",
       "        vertical-align: middle;\n",
       "    }\n",
       "\n",
       "    .dataframe tbody tr th {\n",
       "        vertical-align: top;\n",
       "    }\n",
       "\n",
       "    .dataframe thead th {\n",
       "        text-align: right;\n",
       "    }\n",
       "</style>\n",
       "<table border=\"1\" class=\"dataframe\">\n",
       "  <thead>\n",
       "    <tr style=\"text-align: right;\">\n",
       "      <th></th>\n",
       "      <th>survived</th>\n",
       "      <th>pclass</th>\n",
       "      <th>sex</th>\n",
       "      <th>age</th>\n",
       "      <th>sibsp</th>\n",
       "      <th>parch</th>\n",
       "      <th>fare</th>\n",
       "      <th>embarked</th>\n",
       "      <th>class</th>\n",
       "      <th>who</th>\n",
       "      <th>adult_male</th>\n",
       "      <th>deck</th>\n",
       "      <th>embark_town</th>\n",
       "      <th>alive</th>\n",
       "      <th>alone</th>\n",
       "    </tr>\n",
       "  </thead>\n",
       "  <tbody>\n",
       "    <tr>\n",
       "      <th>0</th>\n",
       "      <td>0</td>\n",
       "      <td>3</td>\n",
       "      <td>male</td>\n",
       "      <td>22.0</td>\n",
       "      <td>1</td>\n",
       "      <td>0</td>\n",
       "      <td>7.2500</td>\n",
       "      <td>S</td>\n",
       "      <td>Third</td>\n",
       "      <td>man</td>\n",
       "      <td>True</td>\n",
       "      <td>NaN</td>\n",
       "      <td>Southampton</td>\n",
       "      <td>no</td>\n",
       "      <td>False</td>\n",
       "    </tr>\n",
       "    <tr>\n",
       "      <th>1</th>\n",
       "      <td>1</td>\n",
       "      <td>1</td>\n",
       "      <td>female</td>\n",
       "      <td>38.0</td>\n",
       "      <td>1</td>\n",
       "      <td>0</td>\n",
       "      <td>71.2833</td>\n",
       "      <td>C</td>\n",
       "      <td>First</td>\n",
       "      <td>woman</td>\n",
       "      <td>False</td>\n",
       "      <td>C</td>\n",
       "      <td>Cherbourg</td>\n",
       "      <td>yes</td>\n",
       "      <td>False</td>\n",
       "    </tr>\n",
       "    <tr>\n",
       "      <th>2</th>\n",
       "      <td>1</td>\n",
       "      <td>3</td>\n",
       "      <td>female</td>\n",
       "      <td>26.0</td>\n",
       "      <td>0</td>\n",
       "      <td>0</td>\n",
       "      <td>7.9250</td>\n",
       "      <td>S</td>\n",
       "      <td>Third</td>\n",
       "      <td>woman</td>\n",
       "      <td>False</td>\n",
       "      <td>NaN</td>\n",
       "      <td>Southampton</td>\n",
       "      <td>yes</td>\n",
       "      <td>True</td>\n",
       "    </tr>\n",
       "    <tr>\n",
       "      <th>3</th>\n",
       "      <td>1</td>\n",
       "      <td>1</td>\n",
       "      <td>female</td>\n",
       "      <td>35.0</td>\n",
       "      <td>1</td>\n",
       "      <td>0</td>\n",
       "      <td>53.1000</td>\n",
       "      <td>S</td>\n",
       "      <td>First</td>\n",
       "      <td>woman</td>\n",
       "      <td>False</td>\n",
       "      <td>C</td>\n",
       "      <td>Southampton</td>\n",
       "      <td>yes</td>\n",
       "      <td>False</td>\n",
       "    </tr>\n",
       "    <tr>\n",
       "      <th>4</th>\n",
       "      <td>0</td>\n",
       "      <td>3</td>\n",
       "      <td>male</td>\n",
       "      <td>35.0</td>\n",
       "      <td>0</td>\n",
       "      <td>0</td>\n",
       "      <td>8.0500</td>\n",
       "      <td>S</td>\n",
       "      <td>Third</td>\n",
       "      <td>man</td>\n",
       "      <td>True</td>\n",
       "      <td>NaN</td>\n",
       "      <td>Southampton</td>\n",
       "      <td>no</td>\n",
       "      <td>True</td>\n",
       "    </tr>\n",
       "    <tr>\n",
       "      <th>...</th>\n",
       "      <td>...</td>\n",
       "      <td>...</td>\n",
       "      <td>...</td>\n",
       "      <td>...</td>\n",
       "      <td>...</td>\n",
       "      <td>...</td>\n",
       "      <td>...</td>\n",
       "      <td>...</td>\n",
       "      <td>...</td>\n",
       "      <td>...</td>\n",
       "      <td>...</td>\n",
       "      <td>...</td>\n",
       "      <td>...</td>\n",
       "      <td>...</td>\n",
       "      <td>...</td>\n",
       "    </tr>\n",
       "    <tr>\n",
       "      <th>886</th>\n",
       "      <td>0</td>\n",
       "      <td>2</td>\n",
       "      <td>male</td>\n",
       "      <td>27.0</td>\n",
       "      <td>0</td>\n",
       "      <td>0</td>\n",
       "      <td>13.0000</td>\n",
       "      <td>S</td>\n",
       "      <td>Second</td>\n",
       "      <td>man</td>\n",
       "      <td>True</td>\n",
       "      <td>NaN</td>\n",
       "      <td>Southampton</td>\n",
       "      <td>no</td>\n",
       "      <td>True</td>\n",
       "    </tr>\n",
       "    <tr>\n",
       "      <th>887</th>\n",
       "      <td>1</td>\n",
       "      <td>1</td>\n",
       "      <td>female</td>\n",
       "      <td>19.0</td>\n",
       "      <td>0</td>\n",
       "      <td>0</td>\n",
       "      <td>30.0000</td>\n",
       "      <td>S</td>\n",
       "      <td>First</td>\n",
       "      <td>woman</td>\n",
       "      <td>False</td>\n",
       "      <td>B</td>\n",
       "      <td>Southampton</td>\n",
       "      <td>yes</td>\n",
       "      <td>True</td>\n",
       "    </tr>\n",
       "    <tr>\n",
       "      <th>888</th>\n",
       "      <td>0</td>\n",
       "      <td>3</td>\n",
       "      <td>female</td>\n",
       "      <td>NaN</td>\n",
       "      <td>1</td>\n",
       "      <td>2</td>\n",
       "      <td>23.4500</td>\n",
       "      <td>S</td>\n",
       "      <td>Third</td>\n",
       "      <td>woman</td>\n",
       "      <td>False</td>\n",
       "      <td>NaN</td>\n",
       "      <td>Southampton</td>\n",
       "      <td>no</td>\n",
       "      <td>False</td>\n",
       "    </tr>\n",
       "    <tr>\n",
       "      <th>889</th>\n",
       "      <td>1</td>\n",
       "      <td>1</td>\n",
       "      <td>male</td>\n",
       "      <td>26.0</td>\n",
       "      <td>0</td>\n",
       "      <td>0</td>\n",
       "      <td>30.0000</td>\n",
       "      <td>C</td>\n",
       "      <td>First</td>\n",
       "      <td>man</td>\n",
       "      <td>True</td>\n",
       "      <td>C</td>\n",
       "      <td>Cherbourg</td>\n",
       "      <td>yes</td>\n",
       "      <td>True</td>\n",
       "    </tr>\n",
       "    <tr>\n",
       "      <th>890</th>\n",
       "      <td>0</td>\n",
       "      <td>3</td>\n",
       "      <td>male</td>\n",
       "      <td>32.0</td>\n",
       "      <td>0</td>\n",
       "      <td>0</td>\n",
       "      <td>7.7500</td>\n",
       "      <td>Q</td>\n",
       "      <td>Third</td>\n",
       "      <td>man</td>\n",
       "      <td>True</td>\n",
       "      <td>NaN</td>\n",
       "      <td>Queenstown</td>\n",
       "      <td>no</td>\n",
       "      <td>True</td>\n",
       "    </tr>\n",
       "  </tbody>\n",
       "</table>\n",
       "<p>891 rows × 15 columns</p>\n",
       "</div>"
      ],
      "text/plain": [
       "     survived  pclass     sex   age  sibsp  parch     fare embarked   class  \\\n",
       "0           0       3    male  22.0      1      0   7.2500        S   Third   \n",
       "1           1       1  female  38.0      1      0  71.2833        C   First   \n",
       "2           1       3  female  26.0      0      0   7.9250        S   Third   \n",
       "3           1       1  female  35.0      1      0  53.1000        S   First   \n",
       "4           0       3    male  35.0      0      0   8.0500        S   Third   \n",
       "..        ...     ...     ...   ...    ...    ...      ...      ...     ...   \n",
       "886         0       2    male  27.0      0      0  13.0000        S  Second   \n",
       "887         1       1  female  19.0      0      0  30.0000        S   First   \n",
       "888         0       3  female   NaN      1      2  23.4500        S   Third   \n",
       "889         1       1    male  26.0      0      0  30.0000        C   First   \n",
       "890         0       3    male  32.0      0      0   7.7500        Q   Third   \n",
       "\n",
       "       who  adult_male deck  embark_town alive  alone  \n",
       "0      man        True  NaN  Southampton    no  False  \n",
       "1    woman       False    C    Cherbourg   yes  False  \n",
       "2    woman       False  NaN  Southampton   yes   True  \n",
       "3    woman       False    C  Southampton   yes  False  \n",
       "4      man        True  NaN  Southampton    no   True  \n",
       "..     ...         ...  ...          ...   ...    ...  \n",
       "886    man        True  NaN  Southampton    no   True  \n",
       "887  woman       False    B  Southampton   yes   True  \n",
       "888  woman       False  NaN  Southampton    no  False  \n",
       "889    man        True    C    Cherbourg   yes   True  \n",
       "890    man        True  NaN   Queenstown    no   True  \n",
       "\n",
       "[891 rows x 15 columns]"
      ]
     },
     "execution_count": 38,
     "metadata": {},
     "output_type": "execute_result"
    }
   ],
   "source": [
    "df = sns.load_dataset('titanic')\n",
    "df"
   ]
  },
  {
   "cell_type": "code",
   "execution_count": 39,
   "metadata": {},
   "outputs": [
    {
     "data": {
      "text/plain": [
       "survived       891\n",
       "pclass         891\n",
       "sex            891\n",
       "age            714\n",
       "sibsp          891\n",
       "parch          891\n",
       "fare           891\n",
       "embarked       889\n",
       "class          891\n",
       "who            891\n",
       "adult_male     891\n",
       "deck           203\n",
       "embark_town    889\n",
       "alive          891\n",
       "alone          891\n",
       "dtype: int64"
      ]
     },
     "execution_count": 39,
     "metadata": {},
     "output_type": "execute_result"
    }
   ],
   "source": [
    "df.count()"
   ]
  },
  {
   "cell_type": "code",
   "execution_count": 40,
   "metadata": {},
   "outputs": [
    {
     "name": "stdout",
     "output_type": "stream",
     "text": [
      "                   A         B         C    D\n",
      "2020-10-21 -1.065783  0.161075 -1.016217  1.0\n",
      "2020-10-22 -0.097998 -0.159506  1.717254  NaN\n",
      "2020-10-23  0.369672  0.208903 -0.110634  3.5\n",
      "2020-10-24 -0.123542  1.033510  0.090737  6.1\n",
      "2020-10-25 -0.148100 -0.334694 -0.982958  NaN\n",
      "2020-10-26  0.805212  1.184232  0.517126  7.0 \n",
      "\n",
      "2020-10-21   -0.427571\n",
      "2020-10-22   -0.097998\n",
      "2020-10-23    0.289288\n",
      "2020-10-24    0.562123\n",
      "2020-10-25   -0.334694\n",
      "2020-10-26    0.994722\n",
      "Freq: D, dtype: float64\n"
     ]
    }
   ],
   "source": [
    "import numpy as np \n",
    "import pandas as pd\n",
    "\n",
    "dates = pd.date_range('20201021',\n",
    "periods=6)\n",
    "df = pd.DataFrame(\n",
    "np.random.randn(6, 3), \n",
    "index=dates,\n",
    "columns=list('ABC'))\n",
    "df['D'] = [1.0, np.nan, 3.5,\n",
    "6.1, np.nan, 7.0]\n",
    "print(df, '\\n') \n",
    "print(df.median(axis=1)) #중앙값"
   ]
  },
  {
   "cell_type": "code",
   "execution_count": 41,
   "metadata": {},
   "outputs": [
    {
     "name": "stdout",
     "output_type": "stream",
     "text": [
      "mean = -0.5914791425870837\n",
      "std = 1.0873667089921577\n",
      "correlation = -0.5890733037618299\n",
      "covariance = -0.023621014560722617\n"
     ]
    }
   ],
   "source": [
    "import numpy as np \n",
    "import pandas as pd\n",
    "dates = pd.date_range('20201021', periods=6)\n",
    "df = pd.DataFrame(np.random.randn(6, 3), index=dates, columns=list('ABC')) \n",
    "df['D'] = [1.0, np.nan, 3.5, 6.1, np.nan, 7.0]\n",
    "\n",
    "print(f\"mean = {df['A'].mean()}\") #평균값\n",
    "print(f\"std = {df['A'].std()}\") #표준편차\n",
    "print(f\"correlation = {df['A'].corr(df['B'])}\") #상관관계\n",
    "print(f\"covariance = {df['B'].cov(df['C'])}\") #공분산"
   ]
  },
  {
   "cell_type": "code",
   "execution_count": 42,
   "metadata": {},
   "outputs": [
    {
     "name": "stdout",
     "output_type": "stream",
     "text": [
      "0    a\n",
      "1    b\n",
      "0    c\n",
      "1    d\n",
      "dtype: object\n"
     ]
    }
   ],
   "source": [
    "import numpy as np\n",
    "import pandas as pd\n",
    "\n",
    "s1 = pd.Series(['a', 'b']) \n",
    "s2 = pd.Series(['c', 'd']) \n",
    "df = pd.concat([s1, s2]) #두 시리즈의 병합 - 단순히 연결하면 옆이 아니라 아래로 병합됨\n",
    "print(df)"
   ]
  },
  {
   "cell_type": "code",
   "execution_count": 45,
   "metadata": {},
   "outputs": [
    {
     "name": "stdout",
     "output_type": "stream",
     "text": [
      "   A  B\n",
      "0  a  1\n",
      "1  b  2\n",
      "2  a  1\n",
      "3  b  2\n"
     ]
    }
   ],
   "source": [
    "import numpy as np \n",
    "import pandas as pd\n",
    "\n",
    "df1 = pd.DataFrame([['a', 1], ['b', 2]], columns=list('AB'))  #axis는 결합방향임 = 0 or = 1\n",
    "df2 = pd.DataFrame([['a', 1], ['b', 2]], columns=list('AB')) \n",
    "df3 = pd.concat([df1, df2], ignore_index=True) #ignore_index가 true 라면 원래 순서를 무시하고 이어서 작성\n",
    "print(df3)"
   ]
  },
  {
   "cell_type": "code",
   "execution_count": 46,
   "metadata": {},
   "outputs": [
    {
     "name": "stdout",
     "output_type": "stream",
     "text": [
      "   A  B  A  B\n",
      "0  a  1  a  1\n",
      "1  b  2  b  2\n"
     ]
    }
   ],
   "source": [
    "import numpy as np \n",
    "import pandas as pd\n",
    "\n",
    "df1 = pd.DataFrame([['a', 1], ['b', 2]], columns=list('AB')) \n",
    "df2 = pd.DataFrame([['a', 1], ['b', 2]], columns=list('AB')) \n",
    "df3 = pd.concat([df1, df2], axis=1)\n",
    "print(df3)"
   ]
  },
  {
   "cell_type": "code",
   "execution_count": 47,
   "metadata": {},
   "outputs": [
    {
     "name": "stdout",
     "output_type": "stream",
     "text": [
      "     A    B    A    B\n",
      "0    a  1.0  NaN  NaN\n",
      "1    b  2.0    a  1.0\n",
      "2    c  3.0    b  2.0\n",
      "3  NaN  NaN    c  3.0\n"
     ]
    }
   ],
   "source": [
    "import numpy as np \n",
    "import pandas as pd\n",
    "\n",
    "df1 = pd.DataFrame([['a', 1], ['b', 2], ['c', 3]], index=[0, 1, 2],\n",
    "columns=list('AB'))\n",
    "df2 = pd.DataFrame([['a', 1], ['b', 2], ['c', 3]], index=[1, 2, 3], \n",
    "columns=list('AB'))\n",
    "df3 = pd.concat([df1, df2], axis=1) # outer join 중복되는 부분을 제외한 부분을 보여줌\n",
    "print(df3)"
   ]
  },
  {
   "cell_type": "code",
   "execution_count": 52,
   "metadata": {},
   "outputs": [
    {
     "data": {
      "text/html": [
       "<div>\n",
       "<style scoped>\n",
       "    .dataframe tbody tr th:only-of-type {\n",
       "        vertical-align: middle;\n",
       "    }\n",
       "\n",
       "    .dataframe tbody tr th {\n",
       "        vertical-align: top;\n",
       "    }\n",
       "\n",
       "    .dataframe thead th {\n",
       "        text-align: right;\n",
       "    }\n",
       "</style>\n",
       "<table border=\"1\" class=\"dataframe\">\n",
       "  <thead>\n",
       "    <tr style=\"text-align: right;\">\n",
       "      <th></th>\n",
       "      <th>A</th>\n",
       "      <th>B</th>\n",
       "      <th>A</th>\n",
       "      <th>B</th>\n",
       "    </tr>\n",
       "  </thead>\n",
       "  <tbody>\n",
       "    <tr>\n",
       "      <th>1</th>\n",
       "      <td>b</td>\n",
       "      <td>2</td>\n",
       "      <td>a</td>\n",
       "      <td>1</td>\n",
       "    </tr>\n",
       "    <tr>\n",
       "      <th>2</th>\n",
       "      <td>c</td>\n",
       "      <td>3</td>\n",
       "      <td>b</td>\n",
       "      <td>2</td>\n",
       "    </tr>\n",
       "  </tbody>\n",
       "</table>\n",
       "</div>"
      ],
      "text/plain": [
       "   A  B  A  B\n",
       "1  b  2  a  1\n",
       "2  c  3  b  2"
      ]
     },
     "execution_count": 52,
     "metadata": {},
     "output_type": "execute_result"
    }
   ],
   "source": [
    "import numpy as np \n",
    "import pandas as pd\n",
    "\n",
    "df1 = pd.DataFrame([['a', 1], ['b', 2], ['c', 3]], index=[0, 1, 2], \n",
    "columns=list('AB'))\n",
    "df2 = pd.DataFrame([['a', 1], ['b', 2], ['c', 3]], index=[1, 2, 3], \n",
    "columns=list('AB'))\n",
    "df3 = pd.concat([df1, df2], axis=1, join='inner')  #중복되는 부분만 보여줌\n",
    "df3"
   ]
  },
  {
   "cell_type": "markdown",
   "metadata": {},
   "source": [
    "# pd.merge(df_left, df_right, left_on=None, right_on=None, on=None, how='inner')\n",
    "\n",
    "▪  두    DataFrame을    각    데이터에    존재하는    고유값(key)을    기준으로    조인\n",
    "\n",
    "• join 방식    : inner, left, right, outer\n",
    "\n",
    "• 고유값(key) 컬럼이    같을    때,\n",
    "− pd.merge(df_left, df_right, on='key', how='join_method')\n",
    "\n",
    "• 고유값(key) 컬럼이    다를    때,\n",
    "− pd.merge(df_left, df_right, left_on='lkey', right_on='rkey', how='join_method')"
   ]
  },
  {
   "cell_type": "code",
   "execution_count": 49,
   "metadata": {},
   "outputs": [
    {
     "data": {
      "text/html": [
       "<div>\n",
       "<style scoped>\n",
       "    .dataframe tbody tr th:only-of-type {\n",
       "        vertical-align: middle;\n",
       "    }\n",
       "\n",
       "    .dataframe tbody tr th {\n",
       "        vertical-align: top;\n",
       "    }\n",
       "\n",
       "    .dataframe thead th {\n",
       "        text-align: right;\n",
       "    }\n",
       "</style>\n",
       "<table border=\"1\" class=\"dataframe\">\n",
       "  <thead>\n",
       "    <tr style=\"text-align: right;\">\n",
       "      <th></th>\n",
       "      <th>a</th>\n",
       "      <th>b</th>\n",
       "      <th>c</th>\n",
       "    </tr>\n",
       "  </thead>\n",
       "  <tbody>\n",
       "    <tr>\n",
       "      <th>0</th>\n",
       "      <td>foo</td>\n",
       "      <td>1</td>\n",
       "      <td>3</td>\n",
       "    </tr>\n",
       "  </tbody>\n",
       "</table>\n",
       "</div>"
      ],
      "text/plain": [
       "     a  b  c\n",
       "0  foo  1  3"
      ]
     },
     "execution_count": 49,
     "metadata": {},
     "output_type": "execute_result"
    }
   ],
   "source": [
    "import pandas as pd\n",
    "\n",
    "df1 = pd.DataFrame({'a': ['foo', 'bar'], 'b': [1, 2]}) \n",
    "df2 = pd.DataFrame({'a': ['foo', 'baz'], 'c': [3, 4]})\n",
    "df3 = pd.merge(df1, df2, how='inner', on='a') \n",
    "df3"
   ]
  },
  {
   "cell_type": "code",
   "execution_count": 50,
   "metadata": {},
   "outputs": [
    {
     "data": {
      "text/html": [
       "<div>\n",
       "<style scoped>\n",
       "    .dataframe tbody tr th:only-of-type {\n",
       "        vertical-align: middle;\n",
       "    }\n",
       "\n",
       "    .dataframe tbody tr th {\n",
       "        vertical-align: top;\n",
       "    }\n",
       "\n",
       "    .dataframe thead th {\n",
       "        text-align: right;\n",
       "    }\n",
       "</style>\n",
       "<table border=\"1\" class=\"dataframe\">\n",
       "  <thead>\n",
       "    <tr style=\"text-align: right;\">\n",
       "      <th></th>\n",
       "      <th>a</th>\n",
       "      <th>b</th>\n",
       "      <th>c</th>\n",
       "    </tr>\n",
       "  </thead>\n",
       "  <tbody>\n",
       "    <tr>\n",
       "      <th>0</th>\n",
       "      <td>foo</td>\n",
       "      <td>1</td>\n",
       "      <td>3.0</td>\n",
       "    </tr>\n",
       "    <tr>\n",
       "      <th>1</th>\n",
       "      <td>bar</td>\n",
       "      <td>2</td>\n",
       "      <td>NaN</td>\n",
       "    </tr>\n",
       "  </tbody>\n",
       "</table>\n",
       "</div>"
      ],
      "text/plain": [
       "     a  b    c\n",
       "0  foo  1  3.0\n",
       "1  bar  2  NaN"
      ]
     },
     "execution_count": 50,
     "metadata": {},
     "output_type": "execute_result"
    }
   ],
   "source": [
    "import pandas as pd\n",
    "\n",
    "df1 = pd.DataFrame({'a': ['foo', 'bar'], 'b': [1, 2]}) \n",
    "df2 = pd.DataFrame({'a': ['foo', 'baz'], 'c': [3, 4]})\n",
    "df3 = pd.merge(df1, df2, how='left', left_on='a', right_on='a') #left join\n",
    "df3"
   ]
  },
  {
   "cell_type": "code",
   "execution_count": 51,
   "metadata": {},
   "outputs": [
    {
     "data": {
      "text/html": [
       "<div>\n",
       "<style scoped>\n",
       "    .dataframe tbody tr th:only-of-type {\n",
       "        vertical-align: middle;\n",
       "    }\n",
       "\n",
       "    .dataframe tbody tr th {\n",
       "        vertical-align: top;\n",
       "    }\n",
       "\n",
       "    .dataframe thead th {\n",
       "        text-align: right;\n",
       "    }\n",
       "</style>\n",
       "<table border=\"1\" class=\"dataframe\">\n",
       "  <thead>\n",
       "    <tr style=\"text-align: right;\">\n",
       "      <th></th>\n",
       "      <th>a</th>\n",
       "      <th>b</th>\n",
       "      <th>c</th>\n",
       "    </tr>\n",
       "  </thead>\n",
       "  <tbody>\n",
       "    <tr>\n",
       "      <th>0</th>\n",
       "      <td>foo</td>\n",
       "      <td>1.0</td>\n",
       "      <td>3</td>\n",
       "    </tr>\n",
       "    <tr>\n",
       "      <th>1</th>\n",
       "      <td>baz</td>\n",
       "      <td>NaN</td>\n",
       "      <td>4</td>\n",
       "    </tr>\n",
       "  </tbody>\n",
       "</table>\n",
       "</div>"
      ],
      "text/plain": [
       "     a    b  c\n",
       "0  foo  1.0  3\n",
       "1  baz  NaN  4"
      ]
     },
     "execution_count": 51,
     "metadata": {},
     "output_type": "execute_result"
    }
   ],
   "source": [
    "import pandas as pd\n",
    "\n",
    "df1 = pd.DataFrame({'a': ['foo', 'bar'], 'b': [1, 2]}) \n",
    "df2 = pd.DataFrame({'a': ['foo', 'baz'], 'c': [3, 4]})\n",
    "df3 = pd.merge(df1, df2, how='right', on='a')  #right join\n",
    "df3"
   ]
  },
  {
   "cell_type": "code",
   "execution_count": null,
   "metadata": {},
   "outputs": [],
   "source": [
    "import pandas as pd\n",
    "\n",
    "df1 = pd.DataFrame({'a': ['foo', 'bar'], 'b': [1, 2]}) \n",
    "df2 = pd.DataFrame({'a': ['foo', 'baz'], 'c': [3, 4]})\n",
    "df3 = pd.merge(df1, df2, how='outer', on='a')   # OUTER JOIN\n",
    "df3"
   ]
  },
  {
   "cell_type": "markdown",
   "metadata": {},
   "source": [
    "#데이터를 완전히 재구조 할 때 사용한다 pivot"
   ]
  },
  {
   "cell_type": "code",
   "execution_count": 63,
   "metadata": {},
   "outputs": [
    {
     "name": "stdout",
     "output_type": "stream",
     "text": [
      "bar  A  B  C\n",
      "foo         \n",
      "one  x  y  z\n",
      "two  q  w  t\n"
     ]
    }
   ],
   "source": [
    "import numpy as np \n",
    "import pandas as pd\n",
    "\n",
    "df = pd.DataFrame({'foo': ['one', 'one', 'one', 'two', 'two', 'two'],\n",
    "'bar': ['A', 'B', 'C', 'A', 'B', 'C'], \n",
    "'baz': [1, 2, 3, 4, 5, 6],\n",
    "'zoo': ['x', 'y', 'z', 'q', 'w', 't']})\n",
    "#print(df, '\\n')\n",
    "print(df.pivot(index='foo', columns='bar', values='zoo'))"
   ]
  },
  {
   "cell_type": "markdown",
   "metadata": {},
   "source": [
    "1. df.pivot_table(index=‘var’, columns=‘var’, values=‘var’, aggfunc=‘func’)"
   ]
  },
  {
   "cell_type": "code",
   "execution_count": 66,
   "metadata": {},
   "outputs": [
    {
     "name": "stderr",
     "output_type": "stream",
     "text": [
      "C:\\Users\\김경민\\AppData\\Local\\Temp\\ipykernel_20584\\259563159.py:6: FutureWarning: The default value of observed=False is deprecated and will change to observed=True in a future version of pandas. Specify observed=False to silence this warning and retain the current behavior\n",
      "  df1 = pd.pivot_table(df,\n"
     ]
    },
    {
     "data": {
      "text/html": [
       "<div>\n",
       "<style scoped>\n",
       "    .dataframe tbody tr th:only-of-type {\n",
       "        vertical-align: middle;\n",
       "    }\n",
       "\n",
       "    .dataframe tbody tr th {\n",
       "        vertical-align: top;\n",
       "    }\n",
       "\n",
       "    .dataframe thead th {\n",
       "        text-align: right;\n",
       "    }\n",
       "</style>\n",
       "<table border=\"1\" class=\"dataframe\">\n",
       "  <thead>\n",
       "    <tr style=\"text-align: right;\">\n",
       "      <th>sex</th>\n",
       "      <th>female</th>\n",
       "      <th>male</th>\n",
       "    </tr>\n",
       "    <tr>\n",
       "      <th>class</th>\n",
       "      <th></th>\n",
       "      <th></th>\n",
       "    </tr>\n",
       "  </thead>\n",
       "  <tbody>\n",
       "    <tr>\n",
       "      <th>First</th>\n",
       "      <td>34.611765</td>\n",
       "      <td>41.281386</td>\n",
       "    </tr>\n",
       "    <tr>\n",
       "      <th>Second</th>\n",
       "      <td>28.722973</td>\n",
       "      <td>30.740707</td>\n",
       "    </tr>\n",
       "    <tr>\n",
       "      <th>Third</th>\n",
       "      <td>21.750000</td>\n",
       "      <td>26.507589</td>\n",
       "    </tr>\n",
       "  </tbody>\n",
       "</table>\n",
       "</div>"
      ],
      "text/plain": [
       "sex        female       male\n",
       "class                       \n",
       "First   34.611765  41.281386\n",
       "Second  28.722973  30.740707\n",
       "Third   21.750000  26.507589"
      ]
     },
     "execution_count": 66,
     "metadata": {},
     "output_type": "execute_result"
    }
   ],
   "source": [
    "import pandas as pd \n",
    "import seaborn as sns\n",
    "\n",
    "df = sns.load_dataset('titanic')\n",
    "df = df[['age', 'sex', 'class', 'fare', 'survived']]\n",
    "df1 = pd.pivot_table(df,             # 피벗할 데이터프레임\n",
    "                     index= 'class', # 행 위치에 들어갈 열\n",
    "                     columns='sex',  # 열 위치에 들어갈 열\n",
    "                     values='age',   # 데이터로 사용할 열\n",
    "                     aggfunc='mean') # 데이터 집계함수\n",
    "df1"
   ]
  },
  {
   "cell_type": "code",
   "execution_count": 67,
   "metadata": {},
   "outputs": [
    {
     "name": "stderr",
     "output_type": "stream",
     "text": [
      "C:\\Users\\김경민\\AppData\\Local\\Temp\\ipykernel_20584\\155610392.py:1: FutureWarning: The default value of observed=False is deprecated and will change to observed=True in a future version of pandas. Specify observed=False to silence this warning and retain the current behavior\n",
      "  df2 = pd.pivot_table(df, index= 'class', columns= 'sex', values= 'survived', aggfunc= ['mean', 'sum'])\n",
      "C:\\Users\\김경민\\AppData\\Local\\Temp\\ipykernel_20584\\155610392.py:1: FutureWarning: The default value of observed=False is deprecated and will change to observed=True in a future version of pandas. Specify observed=False to silence this warning and retain the current behavior\n",
      "  df2 = pd.pivot_table(df, index= 'class', columns= 'sex', values= 'survived', aggfunc= ['mean', 'sum'])\n"
     ]
    },
    {
     "data": {
      "text/html": [
       "<div>\n",
       "<style scoped>\n",
       "    .dataframe tbody tr th:only-of-type {\n",
       "        vertical-align: middle;\n",
       "    }\n",
       "\n",
       "    .dataframe tbody tr th {\n",
       "        vertical-align: top;\n",
       "    }\n",
       "\n",
       "    .dataframe thead tr th {\n",
       "        text-align: left;\n",
       "    }\n",
       "\n",
       "    .dataframe thead tr:last-of-type th {\n",
       "        text-align: right;\n",
       "    }\n",
       "</style>\n",
       "<table border=\"1\" class=\"dataframe\">\n",
       "  <thead>\n",
       "    <tr>\n",
       "      <th></th>\n",
       "      <th colspan=\"2\" halign=\"left\">mean</th>\n",
       "      <th colspan=\"2\" halign=\"left\">sum</th>\n",
       "    </tr>\n",
       "    <tr>\n",
       "      <th>sex</th>\n",
       "      <th>female</th>\n",
       "      <th>male</th>\n",
       "      <th>female</th>\n",
       "      <th>male</th>\n",
       "    </tr>\n",
       "    <tr>\n",
       "      <th>class</th>\n",
       "      <th></th>\n",
       "      <th></th>\n",
       "      <th></th>\n",
       "      <th></th>\n",
       "    </tr>\n",
       "  </thead>\n",
       "  <tbody>\n",
       "    <tr>\n",
       "      <th>First</th>\n",
       "      <td>0.968085</td>\n",
       "      <td>0.368852</td>\n",
       "      <td>91</td>\n",
       "      <td>45</td>\n",
       "    </tr>\n",
       "    <tr>\n",
       "      <th>Second</th>\n",
       "      <td>0.921053</td>\n",
       "      <td>0.157407</td>\n",
       "      <td>70</td>\n",
       "      <td>17</td>\n",
       "    </tr>\n",
       "    <tr>\n",
       "      <th>Third</th>\n",
       "      <td>0.500000</td>\n",
       "      <td>0.135447</td>\n",
       "      <td>72</td>\n",
       "      <td>47</td>\n",
       "    </tr>\n",
       "  </tbody>\n",
       "</table>\n",
       "</div>"
      ],
      "text/plain": [
       "            mean              sum     \n",
       "sex       female      male female male\n",
       "class                                 \n",
       "First   0.968085  0.368852     91   45\n",
       "Second  0.921053  0.157407     70   17\n",
       "Third   0.500000  0.135447     72   47"
      ]
     },
     "execution_count": 67,
     "metadata": {},
     "output_type": "execute_result"
    }
   ],
   "source": [
    "df2 = pd.pivot_table(df, index= 'class', columns= 'sex', values= 'survived', aggfunc= ['mean', 'sum'])\n",
    "\n",
    "df2\n",
    "\n",
    "'''\n",
    "3등석(Third)에   탄   여자(female)들의   생존여부 \n",
    "(survived)는    평균    50%정도,\n",
    "1등석(First)에    탄    남자(male)들의    생존자는    모두 \n",
    "45명\n",
    "'''"
   ]
  },
  {
   "cell_type": "code",
   "execution_count": 68,
   "metadata": {},
   "outputs": [
    {
     "name": "stderr",
     "output_type": "stream",
     "text": [
      "C:\\Users\\김경민\\AppData\\Local\\Temp\\ipykernel_20584\\3795378673.py:1: FutureWarning: The default value of observed=False is deprecated and will change to observed=True in a future version of pandas. Specify observed=False to silence this warning and retain the current behavior\n",
      "  df3 = pd.pivot_table(df, index = ['class','sex'], columns = 'survived',\n",
      "C:\\Users\\김경민\\AppData\\Local\\Temp\\ipykernel_20584\\3795378673.py:1: FutureWarning: The default value of observed=False is deprecated and will change to observed=True in a future version of pandas. Specify observed=False to silence this warning and retain the current behavior\n",
      "  df3 = pd.pivot_table(df, index = ['class','sex'], columns = 'survived',\n"
     ]
    },
    {
     "data": {
      "text/html": [
       "<div>\n",
       "<style scoped>\n",
       "    .dataframe tbody tr th:only-of-type {\n",
       "        vertical-align: middle;\n",
       "    }\n",
       "\n",
       "    .dataframe tbody tr th {\n",
       "        vertical-align: top;\n",
       "    }\n",
       "\n",
       "    .dataframe thead tr th {\n",
       "        text-align: left;\n",
       "    }\n",
       "\n",
       "    .dataframe thead tr:last-of-type th {\n",
       "        text-align: right;\n",
       "    }\n",
       "</style>\n",
       "<table border=\"1\" class=\"dataframe\">\n",
       "  <thead>\n",
       "    <tr>\n",
       "      <th></th>\n",
       "      <th></th>\n",
       "      <th colspan=\"4\" halign=\"left\">mean</th>\n",
       "      <th colspan=\"4\" halign=\"left\">max</th>\n",
       "    </tr>\n",
       "    <tr>\n",
       "      <th></th>\n",
       "      <th></th>\n",
       "      <th colspan=\"2\" halign=\"left\">age</th>\n",
       "      <th colspan=\"2\" halign=\"left\">fare</th>\n",
       "      <th colspan=\"2\" halign=\"left\">age</th>\n",
       "      <th colspan=\"2\" halign=\"left\">fare</th>\n",
       "    </tr>\n",
       "    <tr>\n",
       "      <th></th>\n",
       "      <th>survived</th>\n",
       "      <th>0</th>\n",
       "      <th>1</th>\n",
       "      <th>0</th>\n",
       "      <th>1</th>\n",
       "      <th>0</th>\n",
       "      <th>1</th>\n",
       "      <th>0</th>\n",
       "      <th>1</th>\n",
       "    </tr>\n",
       "    <tr>\n",
       "      <th>class</th>\n",
       "      <th>sex</th>\n",
       "      <th></th>\n",
       "      <th></th>\n",
       "      <th></th>\n",
       "      <th></th>\n",
       "      <th></th>\n",
       "      <th></th>\n",
       "      <th></th>\n",
       "      <th></th>\n",
       "    </tr>\n",
       "  </thead>\n",
       "  <tbody>\n",
       "    <tr>\n",
       "      <th rowspan=\"2\" valign=\"top\">First</th>\n",
       "      <th>female</th>\n",
       "      <td>25.666667</td>\n",
       "      <td>34.939024</td>\n",
       "      <td>110.604167</td>\n",
       "      <td>105.978159</td>\n",
       "      <td>50.0</td>\n",
       "      <td>63.0</td>\n",
       "      <td>151.55</td>\n",
       "      <td>512.3292</td>\n",
       "    </tr>\n",
       "    <tr>\n",
       "      <th>male</th>\n",
       "      <td>44.581967</td>\n",
       "      <td>36.248000</td>\n",
       "      <td>62.894910</td>\n",
       "      <td>74.637320</td>\n",
       "      <td>71.0</td>\n",
       "      <td>80.0</td>\n",
       "      <td>263.00</td>\n",
       "      <td>512.3292</td>\n",
       "    </tr>\n",
       "    <tr>\n",
       "      <th rowspan=\"2\" valign=\"top\">Second</th>\n",
       "      <th>female</th>\n",
       "      <td>36.000000</td>\n",
       "      <td>28.080882</td>\n",
       "      <td>18.250000</td>\n",
       "      <td>22.288989</td>\n",
       "      <td>57.0</td>\n",
       "      <td>55.0</td>\n",
       "      <td>26.00</td>\n",
       "      <td>65.0000</td>\n",
       "    </tr>\n",
       "    <tr>\n",
       "      <th>male</th>\n",
       "      <td>33.369048</td>\n",
       "      <td>16.022000</td>\n",
       "      <td>19.488965</td>\n",
       "      <td>21.095100</td>\n",
       "      <td>70.0</td>\n",
       "      <td>62.0</td>\n",
       "      <td>73.50</td>\n",
       "      <td>39.0000</td>\n",
       "    </tr>\n",
       "    <tr>\n",
       "      <th rowspan=\"2\" valign=\"top\">Third</th>\n",
       "      <th>female</th>\n",
       "      <td>23.818182</td>\n",
       "      <td>19.329787</td>\n",
       "      <td>19.773093</td>\n",
       "      <td>12.464526</td>\n",
       "      <td>48.0</td>\n",
       "      <td>63.0</td>\n",
       "      <td>69.55</td>\n",
       "      <td>31.3875</td>\n",
       "    </tr>\n",
       "    <tr>\n",
       "      <th>male</th>\n",
       "      <td>27.255814</td>\n",
       "      <td>22.274211</td>\n",
       "      <td>12.204469</td>\n",
       "      <td>15.579696</td>\n",
       "      <td>74.0</td>\n",
       "      <td>45.0</td>\n",
       "      <td>69.55</td>\n",
       "      <td>56.4958</td>\n",
       "    </tr>\n",
       "  </tbody>\n",
       "</table>\n",
       "</div>"
      ],
      "text/plain": [
       "                    mean                                      max        \\\n",
       "                     age                   fare               age         \n",
       "survived               0          1           0           1     0     1   \n",
       "class  sex                                                                \n",
       "First  female  25.666667  34.939024  110.604167  105.978159  50.0  63.0   \n",
       "       male    44.581967  36.248000   62.894910   74.637320  71.0  80.0   \n",
       "Second female  36.000000  28.080882   18.250000   22.288989  57.0  55.0   \n",
       "       male    33.369048  16.022000   19.488965   21.095100  70.0  62.0   \n",
       "Third  female  23.818182  19.329787   19.773093   12.464526  48.0  63.0   \n",
       "       male    27.255814  22.274211   12.204469   15.579696  74.0  45.0   \n",
       "\n",
       "                                 \n",
       "                 fare            \n",
       "survived            0         1  \n",
       "class  sex                       \n",
       "First  female  151.55  512.3292  \n",
       "       male    263.00  512.3292  \n",
       "Second female   26.00   65.0000  \n",
       "       male     73.50   39.0000  \n",
       "Third  female   69.55   31.3875  \n",
       "       male     69.55   56.4958  "
      ]
     },
     "execution_count": 68,
     "metadata": {},
     "output_type": "execute_result"
    }
   ],
   "source": [
    "df3 = pd.pivot_table(df, index = ['class','sex'], columns = 'survived',\n",
    "values = ['age','fare'], aggfunc = ['mean','max'])\n",
    "\n",
    "df3"
   ]
  },
  {
   "cell_type": "code",
   "execution_count": 70,
   "metadata": {},
   "outputs": [
    {
     "name": "stdout",
     "output_type": "stream",
     "text": [
      "  col1  col2  col3 col4\n",
      "0    A     2     0    a\n",
      "1    A     1     1    b\n",
      "2    B     9     9    c\n",
      "3  NaN     8     4    d\n",
      "4    D     7     2    e\n",
      "5    C     4     3    f \n",
      "\n",
      "  col1  col2  col3 col4\n",
      "1    A     1     1    b\n",
      "0    A     2     0    a\n",
      "5    C     4     3    f\n",
      "4    D     7     2    e\n",
      "3  NaN     8     4    d\n",
      "2    B     9     9    c\n"
     ]
    }
   ],
   "source": [
    "import numpy as np \n",
    "import pandas as pd \n",
    "\n",
    "df = pd.DataFrame({\n",
    "'col1': ['A', 'A', 'B', np.nan, 'D', 'C'], \n",
    "'col2': [2, 1, 9, 8, 7, 4],\n",
    "'col3': [0, 1, 9, 4, 2, 3],\n",
    "'col4': ['a', 'b', 'c', 'd', 'e', 'f']}) \n",
    "print(df, '\\n')\n",
    "print(df.sort_values(by=['col2'])) "
   ]
  },
  {
   "cell_type": "code",
   "execution_count": 80,
   "metadata": {},
   "outputs": [
    {
     "name": "stdout",
     "output_type": "stream",
     "text": [
      "  col1  col2  col3 col4\n",
      "0    A     2     0    a\n",
      "1    A     1     1    b\n",
      "2    B     9     9    c\n",
      "3  NaN     8     4    d\n",
      "4    D     7     2    e\n",
      "5    C     4     3    f \n",
      "\n",
      "  col1  col2  col3 col4\n",
      "4    D     7     2    e\n",
      "5    C     4     3    f\n",
      "2    B     9     9    c\n",
      "0    A     2     0    a\n",
      "1    A     1     1    b\n",
      "3  NaN     8     4    d\n"
     ]
    }
   ],
   "source": [
    "import numpy as np \n",
    "import pandas as pd \n",
    "\n",
    "df = pd.DataFrame({\n",
    "'col1': ['A', 'A', 'B', np.nan, 'D', 'C'], \n",
    "'col2': [2, 1, 9, 8, 7, 4],\n",
    "'col3': [0, 1, 9, 4, 2, 3],\n",
    "'col4': ['a', 'b', 'c', 'd', 'e', 'f']}) \n",
    "print(df, '\\n')\n",
    "print(df.sort_values(by='col1', ascending=False)) #ascending = False -> 내림차순"
   ]
  },
  {
   "cell_type": "code",
   "execution_count": 75,
   "metadata": {},
   "outputs": [
    {
     "name": "stdout",
     "output_type": "stream",
     "text": [
      "  col1  col2  col3 col4\n",
      "0    A     2     0    a\n",
      "1    A     1     1    b\n",
      "2    B     9     9    c\n",
      "3  NaN     8     4    d\n",
      "4    D     7     2    e\n",
      "5    C     4     3    f \n",
      "\n",
      "  col1  col2  col3 col4\n",
      "1    A     1     1    b\n",
      "0    A     2     0    a\n",
      "2    B     9     9    c\n",
      "5    C     4     3    f\n",
      "4    D     7     2    e\n",
      "3  NaN     8     4    d\n"
     ]
    }
   ],
   "source": [
    "import numpy as np \n",
    "import pandas as pd \n",
    "\n",
    "df = pd.DataFrame({\n",
    "'col1': ['A', 'A', 'B', np.nan, 'D', 'C'], \n",
    "'col2': [2, 1, 9, 8, 7, 4],\n",
    "'col3': [0, 1, 9, 4, 2, 3],\n",
    "'col4': ['a', 'b', 'c', 'd', 'e', 'f']}) \n",
    "print(df, '\\n')\n",
    "print(df.sort_values(by=['col1', 'col2']))"
   ]
  },
  {
   "cell_type": "code",
   "execution_count": 77,
   "metadata": {},
   "outputs": [
    {
     "name": "stdout",
     "output_type": "stream",
     "text": [
      "   A  B\n",
      "0  1  4\n",
      "1  2  5\n",
      "2  3  6 \n",
      "\n",
      "   A  B\n",
      "x  1  4\n",
      "y  2  5\n",
      "z  3  6\n"
     ]
    }
   ],
   "source": [
    "import numpy as np \n",
    "import pandas as pd\n",
    "\n",
    "df = pd.DataFrame({\"A\": [1, 2, 3], \"B\": [4, 5, 6]}) \n",
    "print(df, '\\n')\n",
    "df.rename(index={0: \"x\", 1: \"y\", 2: \"z\"}, inplace=True) \n",
    "# df.rename(columns={‘y’:‘year’}, index={‘0’:‘x’}) 컬럼 이름바꾸기\n",
    "\n",
    "print(df)"
   ]
  },
  {
   "cell_type": "code",
   "execution_count": 81,
   "metadata": {},
   "outputs": [
    {
     "name": "stdout",
     "output_type": "stream",
     "text": [
      "                   A         B         C    D\n",
      "2020-10-21 -0.070236  0.115124 -0.310907  1.0\n",
      "2020-10-22 -0.706007 -0.026168 -0.223209  NaN\n",
      "2020-10-23  0.562724 -1.419923  0.349848  3.5\n",
      "2020-10-24  0.203711 -0.205709 -0.051251  6.1\n",
      "2020-10-25 -0.345892  0.003328  1.527846  NaN\n",
      "2020-10-26 -1.619580 -0.937782 -0.608861  7.0 \n",
      "\n",
      "                   A         B         C    D\n",
      "2020-10-21 -0.070236  0.115124 -0.310907  1.0\n",
      "2020-10-22 -0.706007 -0.026168 -0.223209  NaN\n",
      "2020-10-24  0.203711 -0.205709 -0.051251  6.1\n",
      "2020-10-25 -0.345892  0.003328  1.527846  NaN\n",
      "2020-10-26 -1.619580 -0.937782 -0.608861  7.0\n"
     ]
    }
   ],
   "source": [
    "import numpy as np \n",
    "import pandas as pd\n",
    "\n",
    "dates = pd.date_range('20201021', periods=6)\n",
    "df = pd.DataFrame(np.random.randn(6, 3), index=dates, columns=list('ABC')) \n",
    "df['D'] = [1.0, np.nan, 3.5, 6.1, np.nan, 7.0]\n",
    "print(df, '\\n')\n",
    "df.drop(pd.to_datetime('20201023'), inplace=True) \n",
    "print(df)"
   ]
  },
  {
   "cell_type": "code",
   "execution_count": 82,
   "metadata": {},
   "outputs": [
    {
     "name": "stdout",
     "output_type": "stream",
     "text": [
      "                   A         B         C    D\n",
      "2020-10-21 -1.031193  0.839451 -0.793486  1.0\n",
      "2020-10-22  2.288662 -1.502979  0.505296  NaN\n",
      "2020-10-25  0.310773 -2.648470  1.311004  NaN\n",
      "2020-10-26  1.815405  0.257515  0.645841  7.0\n"
     ]
    }
   ],
   "source": [
    "import numpy as np \n",
    "import pandas as pd\n",
    "\n",
    "dates = pd.date_range('20201021', periods=6)\n",
    "df = pd.DataFrame(np.random.randn(6, 3), index=dates, columns=list('ABC')) \n",
    "df['D'] = [1.0, np.nan, 3.5, 6.1, np.nan, 7.0]\n",
    "df.drop([pd.to_datetime('20201023'), pd.to_datetime('20201024')], inplace=True) \n",
    "print(df)"
   ]
  },
  {
   "cell_type": "code",
   "execution_count": 87,
   "metadata": {},
   "outputs": [
    {
     "name": "stdout",
     "output_type": "stream",
     "text": [
      "Requirement already satisfied: pandas in c:\\python\\lib\\site-packages (2.2.2)\n",
      "Requirement already satisfied: numpy>=1.26.0 in c:\\python\\lib\\site-packages (from pandas) (1.26.4)\n",
      "Requirement already satisfied: python-dateutil>=2.8.2 in c:\\users\\김경민\\appdata\\roaming\\python\\python312\\site-packages (from pandas) (2.9.0.post0)\n",
      "Requirement already satisfied: pytz>=2020.1 in c:\\python\\lib\\site-packages (from pandas) (2024.1)\n",
      "Requirement already satisfied: tzdata>=2022.7 in c:\\python\\lib\\site-packages (from pandas) (2024.1)\n",
      "Requirement already satisfied: six>=1.5 in c:\\users\\김경민\\appdata\\roaming\\python\\python312\\site-packages (from python-dateutil>=2.8.2->pandas) (1.16.0)\n",
      "Requirement already satisfied: numpy in c:\\python\\lib\\site-packages (1.26.4)\n"
     ]
    }
   ],
   "source": [
    "!pip install pandas\n",
    "!pip install numpy"
   ]
  },
  {
   "cell_type": "code",
   "execution_count": 89,
   "metadata": {},
   "outputs": [
    {
     "name": "stdout",
     "output_type": "stream",
     "text": [
      "  Name  Year  Points\n",
      "0  Lee  2013     1.5\n",
      "1  kim  2013     1.8\n",
      "2  Lee  2015     3.6\n",
      "3  Kim  2015     2.4\n",
      "4  Kim  2015     2.9 \n",
      "\n",
      "        Points\n",
      "Year          \n",
      "2013  1.650000\n",
      "2015  2.966667\n"
     ]
    }
   ],
   "source": [
    "import numpy as np\n",
    "import pandas as pd\n",
    "\n",
    "data = {\n",
    "    'Name': ['Lee', 'kim', 'Lee', 'Kim', 'Kim'],\n",
    "    'Year': [2013, 2013, 2015, 2015, 2015], \n",
    "    'Points': [1.5, 1.8, 3.6, 2.4, 2.9]\n",
    "}\n",
    "df = pd.DataFrame(data) \n",
    "print(df, '\\n')\n",
    "\n",
    "# Group by 'Year' and calculate the mean for numeric columns\n",
    "print(df.groupby('Year').mean(numeric_only=True))\n"
   ]
  },
  {
   "cell_type": "code",
   "execution_count": 85,
   "metadata": {},
   "outputs": [
    {
     "name": "stdout",
     "output_type": "stream",
     "text": [
      "  Name  Year  Points\n",
      "0  Lee  2013     1.5\n",
      "1  Kim  2013     1.8\n",
      "2  Lee  2015     3.6\n",
      "3  Kim  2015     2.4\n",
      "4  Kim  2015     2.9 \n",
      "\n",
      "           Points\n",
      "Name Year        \n",
      "Kim  2013    1.80\n",
      "     2015    2.65\n",
      "Lee  2013    1.50\n",
      "     2015    3.60\n"
     ]
    }
   ],
   "source": [
    "import numpy as np \n",
    "import pandas as pd\n",
    "\n",
    "data = {'Name': ['Lee', 'Kim', 'Lee', 'Kim', 'Kim'],\n",
    "'Year': [2013, 2013, 2015, 2015, 2015], \n",
    "'Points': [1.5, 1.8, 3.6, 2.4, 2.9]}\n",
    "df = pd.DataFrame(data) \n",
    "print(df, '\\n')\n",
    "print(df.groupby(['Name', 'Year']).mean())"
   ]
  },
  {
   "cell_type": "markdown",
   "metadata": {},
   "source": [
    "4. 간단한 시각화 "
   ]
  },
  {
   "cell_type": "markdown",
   "metadata": {},
   "source": [
    "• data : Series or DataFrame\n",
    "• x : label or position(only DataFrame)\n",
    "• y : label or position(only DataFrame)\n",
    "• kind : {line, bar, barh, hist, box, kde, density, area, pie, scatter, hexbin}\n",
    "• title : str\n",
    "• grid : bool(default: None)\n",
    "• legend : bool\n",
    "• xticks, yticks : sequence\n",
    "• xlebel, ylabel : str\n",
    "\n",
    "▪   참고    사이트\n",
    "• https://pandas.pydata.org/docs/user_guide/visualization.html#\n",
    "\n",
    "➢     자유로운    plotting을    위해    보통    matplotlib 또는    seaborn을    사용하는    것 \n",
    "이    바람직하다고    함"
   ]
  },
  {
   "cell_type": "code",
   "execution_count": 90,
   "metadata": {},
   "outputs": [
    {
     "name": "stdout",
     "output_type": "stream",
     "text": [
      "     total_bill   tip     sex smoker   day    time  size\n",
      "0         16.99  1.01  Female     No   Sun  Dinner     2\n",
      "1         10.34  1.66    Male     No   Sun  Dinner     3\n",
      "2         21.01  3.50    Male     No   Sun  Dinner     3\n",
      "3         23.68  3.31    Male     No   Sun  Dinner     2\n",
      "4         24.59  3.61  Female     No   Sun  Dinner     4\n",
      "..          ...   ...     ...    ...   ...     ...   ...\n",
      "239       29.03  5.92    Male     No   Sat  Dinner     3\n",
      "240       27.18  2.00  Female    Yes   Sat  Dinner     2\n",
      "241       22.67  2.00    Male    Yes   Sat  Dinner     2\n",
      "242       17.82  1.75    Male     No   Sat  Dinner     2\n",
      "243       18.78  3.00  Female     No  Thur  Dinner     2\n",
      "\n",
      "[244 rows x 7 columns]\n"
     ]
    },
    {
     "data": {
      "text/plain": [
       "<Axes: title={'center': 'Total Bill vs Tip'}, xlabel='total_bill', ylabel='tip'>"
      ]
     },
     "execution_count": 90,
     "metadata": {},
     "output_type": "execute_result"
    },
    {
     "data": {
      "image/png": "[encoded data removed]",
      "text/plain": [
       "<Figure size 640x480 with 1 Axes>"
      ]
     },
     "metadata": {},
     "output_type": "display_data"
    }
   ],
   "source": [
    "import numpy as np\n",
    "import matplotlib.pyplot as plt\n",
    "import seaborn as sns\n",
    "import pandas as pd\n",
    "data = sns.load_dataset('tips') \n",
    "df = pd.DataFrame(data) \n",
    "print(df)\n",
    "df.plot(kind='scatter', x='total_bill', y='tip', title='Total Bill vs Tip')"
   ]
  },
  {
   "cell_type": "code",
   "execution_count": 91,
   "metadata": {},
   "outputs": [
    {
     "name": "stdout",
     "output_type": "stream",
     "text": [
      "     total_bill   tip     sex smoker   day    time  size\n",
      "0         16.99  1.01  Female     No   Sun  Dinner     2\n",
      "1         10.34  1.66    Male     No   Sun  Dinner     3\n",
      "2         21.01  3.50    Male     No   Sun  Dinner     3\n",
      "3         23.68  3.31    Male     No   Sun  Dinner     2\n",
      "4         24.59  3.61  Female     No   Sun  Dinner     4\n",
      "..          ...   ...     ...    ...   ...     ...   ...\n",
      "239       29.03  5.92    Male     No   Sat  Dinner     3\n",
      "240       27.18  2.00  Female    Yes   Sat  Dinner     2\n",
      "241       22.67  2.00    Male    Yes   Sat  Dinner     2\n",
      "242       17.82  1.75    Male     No   Sat  Dinner     2\n",
      "243       18.78  3.00  Female     No  Thur  Dinner     2\n",
      "\n",
      "[244 rows x 7 columns]\n"
     ]
    },
    {
     "data": {
      "text/plain": [
       "<Axes: title={'center': 'Total Bill'}, ylabel='Frequency'>"
      ]
     },
     "execution_count": 91,
     "metadata": {},
     "output_type": "execute_result"
    },
    {
     "data": {
      "image/png": "[encoded data removed]",
      "text/plain": [
       "<Figure size 640x480 with 1 Axes>"
      ]
     },
     "metadata": {},
     "output_type": "display_data"
    }
   ],
   "source": [
    "import numpy as np\n",
    "import matplotlib.pyplot as plt\n",
    "import seaborn as sns\n",
    "import pandas as pd\n",
    "data = sns.load_dataset('tips') \n",
    "df = pd.DataFrame(data) \n",
    "print(df)\n",
    "df['total_bill'].plot(kind='hist', title='Total Bill')"
   ]
  },
  {
   "cell_type": "code",
   "execution_count": 92,
   "metadata": {},
   "outputs": [
    {
     "name": "stdout",
     "output_type": "stream",
     "text": [
      "     total_bill   tip     sex smoker   day    time  size\n",
      "0         16.99  1.01  Female     No   Sun  Dinner     2\n",
      "1         10.34  1.66    Male     No   Sun  Dinner     3\n",
      "2         21.01  3.50    Male     No   Sun  Dinner     3\n",
      "3         23.68  3.31    Male     No   Sun  Dinner     2\n",
      "4         24.59  3.61  Female     No   Sun  Dinner     4\n",
      "..          ...   ...     ...    ...   ...     ...   ...\n",
      "239       29.03  5.92    Male     No   Sat  Dinner     3\n",
      "240       27.18  2.00  Female    Yes   Sat  Dinner     2\n",
      "241       22.67  2.00    Male    Yes   Sat  Dinner     2\n",
      "242       17.82  1.75    Male     No   Sat  Dinner     2\n",
      "243       18.78  3.00  Female     No  Thur  Dinner     2\n",
      "\n",
      "[244 rows x 7 columns]\n"
     ]
    },
    {
     "data": {
      "text/plain": [
       "<Axes: title={'center': 'Total Bill'}>"
      ]
     },
     "execution_count": 92,
     "metadata": {},
     "output_type": "execute_result"
    },
    {
     "data": {
      "image/png": "[encoded data removed]",
      "text/plain": [
       "<Figure size 640x480 with 1 Axes>"
      ]
     },
     "metadata": {},
     "output_type": "display_data"
    }
   ],
   "source": [
    "import numpy as np\n",
    "import matplotlib.pyplot as plt\n",
    "import seaborn as sns\n",
    "import pandas as pd\n",
    "data = sns.load_dataset('tips') \n",
    "df = pd.DataFrame(data) \n",
    "print(df)\n",
    "df['total_bill'].plot(kind='box', title='Total Bill')"
   ]
  },
  {
   "cell_type": "code",
   "execution_count": 93,
   "metadata": {},
   "outputs": [
    {
     "name": "stdout",
     "output_type": "stream",
     "text": [
      "     survived  pclass     sex   age  sibsp  parch     fare embarked   class  \\\n",
      "0           0       3    male  22.0      1      0   7.2500        S   Third   \n",
      "1           1       1  female  38.0      1      0  71.2833        C   First   \n",
      "2           1       3  female  26.0      0      0   7.9250        S   Third   \n",
      "3           1       1  female  35.0      1      0  53.1000        S   First   \n",
      "4           0       3    male  35.0      0      0   8.0500        S   Third   \n",
      "..        ...     ...     ...   ...    ...    ...      ...      ...     ...   \n",
      "886         0       2    male  27.0      0      0  13.0000        S  Second   \n",
      "887         1       1  female  19.0      0      0  30.0000        S   First   \n",
      "888         0       3  female   NaN      1      2  23.4500        S   Third   \n",
      "889         1       1    male  26.0      0      0  30.0000        C   First   \n",
      "890         0       3    male  32.0      0      0   7.7500        Q   Third   \n",
      "\n",
      "       who  adult_male deck  embark_town alive  alone  \n",
      "0      man        True  NaN  Southampton    no  False  \n",
      "1    woman       False    C    Cherbourg   yes  False  \n",
      "2    woman       False  NaN  Southampton   yes   True  \n",
      "3    woman       False    C  Southampton   yes  False  \n",
      "4      man        True  NaN  Southampton    no   True  \n",
      "..     ...         ...  ...          ...   ...    ...  \n",
      "886    man        True  NaN  Southampton    no   True  \n",
      "887  woman       False    B  Southampton   yes   True  \n",
      "888  woman       False  NaN  Southampton    no  False  \n",
      "889    man        True    C    Cherbourg   yes   True  \n",
      "890    man        True  NaN   Queenstown    no   True  \n",
      "\n",
      "[891 rows x 15 columns]\n"
     ]
    },
    {
     "data": {
      "text/plain": [
       "<Axes: title={'center': 'Dist. of Ages'}, ylabel='Density'>"
      ]
     },
     "execution_count": 93,
     "metadata": {},
     "output_type": "execute_result"
    },
    {
     "data": {
      "image/png": "[encoded data removed]",
      "text/plain": [
       "<Figure size 640x480 with 1 Axes>"
      ]
     },
     "metadata": {},
     "output_type": "display_data"
    }
   ],
   "source": [
    "import numpy as np\n",
    "import matplotlib.pyplot as plt\n",
    "import seaborn as sns\n",
    "import pandas as pd\n",
    "data = sns.load_dataset('titanic') \n",
    "df = pd.DataFrame(data)\n",
    "print(df)\n",
    "df['age'].plot(kind='kde', title='Dist. of Ages')"
   ]
  },
  {
   "cell_type": "markdown",
   "metadata": {},
   "source": [
    "참고사이트\n",
    "\n",
    "❖  공공데이터    포털\n",
    "▪  https://www.data.go.kr/index.do\n",
    "❖  기상청    기상자료개방    포털\n",
    "▪  https://data.kma.go.kr/cmmn/main.do\n",
    "❖  Pandas를    이용한    데이터    분석    기초\n",
    "▪  https://wikidocs.net/2873\n",
    "❖  Pandas Tutorials\n",
    "▪  http://pandas.pydata.org/pandas-docs/stable/tutorials.html\n",
    "❖  Pandas documentation\n",
    "▪  https://pandas.pydata.org/docs/index.html"
   ]
  },
  {
   "cell_type": "code",
   "execution_count": 102,
   "metadata": {},
   "outputs": [
    {
     "name": "stderr",
     "output_type": "stream",
     "text": [
      "<>:3: SyntaxWarning: invalid escape sequence '\\T'\n",
      "<>:3: SyntaxWarning: invalid escape sequence '\\T'\n",
      "C:\\Users\\김경민\\AppData\\Local\\Temp\\ipykernel_20584\\880168663.py:3: SyntaxWarning: invalid escape sequence '\\T'\n",
      "  df = pd.read_csv('c:\\Temp\\병원DATA.csv')\n"
     ]
    },
    {
     "data": {
      "text/html": [
       "<div>\n",
       "<style scoped>\n",
       "    .dataframe tbody tr th:only-of-type {\n",
       "        vertical-align: middle;\n",
       "    }\n",
       "\n",
       "    .dataframe tbody tr th {\n",
       "        vertical-align: top;\n",
       "    }\n",
       "\n",
       "    .dataframe thead th {\n",
       "        text-align: right;\n",
       "    }\n",
       "</style>\n",
       "<table border=\"1\" class=\"dataframe\">\n",
       "  <thead>\n",
       "    <tr style=\"text-align: right;\">\n",
       "      <th></th>\n",
       "      <th>Unnamed: 0</th>\n",
       "      <th>city</th>\n",
       "      <th>gu_address</th>\n",
       "      <th>dong_address</th>\n",
       "      <th>post_code</th>\n",
       "      <th>address</th>\n",
       "      <th>tel</th>\n",
       "      <th>homepage</th>\n",
       "      <th>subject</th>\n",
       "    </tr>\n",
       "  </thead>\n",
       "  <tbody>\n",
       "    <tr>\n",
       "      <th>0</th>\n",
       "      <td>강북삼성병원</td>\n",
       "      <td>서울</td>\n",
       "      <td>종로구</td>\n",
       "      <td>평동</td>\n",
       "      <td>3181</td>\n",
       "      <td>서울특별시 종로구 새문안로 29, (평동)</td>\n",
       "      <td>02-2001-2001</td>\n",
       "      <td>http://www.kbsmc.co.kr</td>\n",
       "      <td>가정의학과, 구강악안면외과, 내과, 마취통증의학과, 방사선종양학과, 병리과, 비뇨의...</td>\n",
       "    </tr>\n",
       "    <tr>\n",
       "      <th>1</th>\n",
       "      <td>건국대학교병원</td>\n",
       "      <td>서울</td>\n",
       "      <td>광진구</td>\n",
       "      <td>화양동</td>\n",
       "      <td>5030</td>\n",
       "      <td>서울특별시 광진구 능동로 120-1, (화양동)</td>\n",
       "      <td>1588-1533</td>\n",
       "      <td>http://www.kuh.ac.kr</td>\n",
       "      <td>가정의학과, 구강악안면외과, 내과, 마취통증의학과, 방사선종양학과, 병리과, 비뇨의...</td>\n",
       "    </tr>\n",
       "    <tr>\n",
       "      <th>2</th>\n",
       "      <td>경희대학교병원</td>\n",
       "      <td>서울</td>\n",
       "      <td>동대문구</td>\n",
       "      <td>회기동</td>\n",
       "      <td>2447</td>\n",
       "      <td>서울특별시 동대문구 경희대로 23, (회기동)</td>\n",
       "      <td>02-958-8114</td>\n",
       "      <td>http://www.khuh.or.kr/</td>\n",
       "      <td>가정의학과, 구강악안면외과, 내과, 마취통증의학과, 방사선종양학과, 병리과, 비뇨의...</td>\n",
       "    </tr>\n",
       "    <tr>\n",
       "      <th>3</th>\n",
       "      <td>고려대학교의과대학부속구로병원</td>\n",
       "      <td>서울</td>\n",
       "      <td>구로구</td>\n",
       "      <td>구로동</td>\n",
       "      <td>8308</td>\n",
       "      <td>서울특별시 구로구 구로동로 148, 고려대부속구로병원 (구로동)</td>\n",
       "      <td>02-2626-1114</td>\n",
       "      <td>http://guro.kumc.or.kr/main/index.do</td>\n",
       "      <td>가정의학과, 구강악안면외과, 내과, 마취통증의학과, 방사선종양학과, 병리과, 비뇨의...</td>\n",
       "    </tr>\n",
       "    <tr>\n",
       "      <th>4</th>\n",
       "      <td>삼성서울병원</td>\n",
       "      <td>서울</td>\n",
       "      <td>강남구</td>\n",
       "      <td>일원동</td>\n",
       "      <td>6351</td>\n",
       "      <td>서울특별시 강남구 일원로 81, (일원동, 삼성의료원)</td>\n",
       "      <td>02-3410-2114</td>\n",
       "      <td>http://www.samsunghospital.com</td>\n",
       "      <td>가정의학과, 구강악안면외과, 내과, 마취통증의학과, 방사선종양학과, 병리과, 비뇨의...</td>\n",
       "    </tr>\n",
       "    <tr>\n",
       "      <th>...</th>\n",
       "      <td>...</td>\n",
       "      <td>...</td>\n",
       "      <td>...</td>\n",
       "      <td>...</td>\n",
       "      <td>...</td>\n",
       "      <td>...</td>\n",
       "      <td>...</td>\n",
       "      <td>...</td>\n",
       "      <td>...</td>\n",
       "    </tr>\n",
       "    <tr>\n",
       "      <th>18915</th>\n",
       "      <td>후후한의원</td>\n",
       "      <td>서울</td>\n",
       "      <td>서초구</td>\n",
       "      <td>잠원동</td>\n",
       "      <td>6512</td>\n",
       "      <td>서울특별시 서초구 신반포로 213, 7동 509~512호 (잠원동, 반포쇼핑타운)</td>\n",
       "      <td>02-533-0099</td>\n",
       "      <td>http://www.siwonhan.com</td>\n",
       "      <td>사상체질과, 침구과, 한방내과, 한방부인과, 한방소아과, 한방신경정신과, 한방안·이...</td>\n",
       "    </tr>\n",
       "    <tr>\n",
       "      <th>18919</th>\n",
       "      <td>휴본한의원</td>\n",
       "      <td>서울</td>\n",
       "      <td>중구</td>\n",
       "      <td>무교동</td>\n",
       "      <td>4520</td>\n",
       "      <td>서울특별시 중구 무교로 15, 7층 (무교동)</td>\n",
       "      <td>02-757-7585</td>\n",
       "      <td>http://www.hubonclinic.com</td>\n",
       "      <td>사상체질과, 침구과, 한방내과, 한방부인과, 한방소아과, 한방신경정신과, 한방안·이...</td>\n",
       "    </tr>\n",
       "    <tr>\n",
       "      <th>18920</th>\n",
       "      <td>휴한의원</td>\n",
       "      <td>서울</td>\n",
       "      <td>노원구</td>\n",
       "      <td>상계동</td>\n",
       "      <td>1695</td>\n",
       "      <td>서울특별시 노원구 노해로83길 4, 4층 (상계동, 은애경빌딩)</td>\n",
       "      <td>02-934-9690</td>\n",
       "      <td>http://</td>\n",
       "      <td>사상체질과, 침구과, 한방내과, 한방부인과, 한방소아과, 한방신경정신과, 한방안·이...</td>\n",
       "    </tr>\n",
       "    <tr>\n",
       "      <th>18921</th>\n",
       "      <td>휴한의원</td>\n",
       "      <td>서울</td>\n",
       "      <td>강남구</td>\n",
       "      <td>역삼동</td>\n",
       "      <td>6143</td>\n",
       "      <td>서울특별시 강남구 봉은사로 310, 숨빌딩 8층 (역삼동)</td>\n",
       "      <td>02-552-3710</td>\n",
       "      <td>http://www.hyooclinic.com/</td>\n",
       "      <td>사상체질과, 침구과, 한방내과, 한방부인과, 한방소아과, 한방신경정신과, 한방안·이...</td>\n",
       "    </tr>\n",
       "    <tr>\n",
       "      <th>18928</th>\n",
       "      <td>힘찬세상경희한의원</td>\n",
       "      <td>서울</td>\n",
       "      <td>용산구</td>\n",
       "      <td>한강로2가</td>\n",
       "      <td>4376</td>\n",
       "      <td>서울특별시 용산구 한강대로 109, (한강로2가, 용성비즈텔)</td>\n",
       "      <td>02-793-2080</td>\n",
       "      <td>http://www.himhani.com</td>\n",
       "      <td>사상체질과, 침구과, 한방내과, 한방부인과, 한방소아과, 한방신경정신과, 한방안·이...</td>\n",
       "    </tr>\n",
       "  </tbody>\n",
       "</table>\n",
       "<p>2977 rows × 9 columns</p>\n",
       "</div>"
      ],
      "text/plain": [
       "            Unnamed: 0 city gu_address dong_address post_code  \\\n",
       "0               강북삼성병원   서울        종로구           평동      3181   \n",
       "1              건국대학교병원   서울        광진구          화양동      5030   \n",
       "2              경희대학교병원   서울       동대문구          회기동      2447   \n",
       "3      고려대학교의과대학부속구로병원   서울        구로구          구로동      8308   \n",
       "4               삼성서울병원   서울        강남구          일원동      6351   \n",
       "...                ...  ...        ...          ...       ...   \n",
       "18915            후후한의원   서울        서초구          잠원동      6512   \n",
       "18919            휴본한의원   서울         중구          무교동      4520   \n",
       "18920             휴한의원   서울        노원구          상계동      1695   \n",
       "18921             휴한의원   서울        강남구          역삼동      6143   \n",
       "18928        힘찬세상경희한의원   서울        용산구        한강로2가      4376   \n",
       "\n",
       "                                             address           tel  \\\n",
       "0                            서울특별시 종로구 새문안로 29, (평동)  02-2001-2001   \n",
       "1                         서울특별시 광진구 능동로 120-1, (화양동)     1588-1533   \n",
       "2                          서울특별시 동대문구 경희대로 23, (회기동)   02-958-8114   \n",
       "3                서울특별시 구로구 구로동로 148, 고려대부속구로병원 (구로동)  02-2626-1114   \n",
       "4                     서울특별시 강남구 일원로 81, (일원동, 삼성의료원)  02-3410-2114   \n",
       "...                                              ...           ...   \n",
       "18915  서울특별시 서초구 신반포로 213, 7동 509~512호 (잠원동, 반포쇼핑타운)   02-533-0099   \n",
       "18919                      서울특별시 중구 무교로 15, 7층 (무교동)   02-757-7585   \n",
       "18920            서울특별시 노원구 노해로83길 4, 4층 (상계동, 은애경빌딩)   02-934-9690   \n",
       "18921               서울특별시 강남구 봉은사로 310, 숨빌딩 8층 (역삼동)   02-552-3710   \n",
       "18928             서울특별시 용산구 한강대로 109, (한강로2가, 용성비즈텔)   02-793-2080   \n",
       "\n",
       "                                   homepage  \\\n",
       "0                    http://www.kbsmc.co.kr   \n",
       "1                      http://www.kuh.ac.kr   \n",
       "2                    http://www.khuh.or.kr/   \n",
       "3      http://guro.kumc.or.kr/main/index.do   \n",
       "4            http://www.samsunghospital.com   \n",
       "...                                     ...   \n",
       "18915               http://www.siwonhan.com   \n",
       "18919            http://www.hubonclinic.com   \n",
       "18920                               http://   \n",
       "18921            http://www.hyooclinic.com/   \n",
       "18928                http://www.himhani.com   \n",
       "\n",
       "                                                 subject  \n",
       "0      가정의학과, 구강악안면외과, 내과, 마취통증의학과, 방사선종양학과, 병리과, 비뇨의...  \n",
       "1      가정의학과, 구강악안면외과, 내과, 마취통증의학과, 방사선종양학과, 병리과, 비뇨의...  \n",
       "2      가정의학과, 구강악안면외과, 내과, 마취통증의학과, 방사선종양학과, 병리과, 비뇨의...  \n",
       "3      가정의학과, 구강악안면외과, 내과, 마취통증의학과, 방사선종양학과, 병리과, 비뇨의...  \n",
       "4      가정의학과, 구강악안면외과, 내과, 마취통증의학과, 방사선종양학과, 병리과, 비뇨의...  \n",
       "...                                                  ...  \n",
       "18915  사상체질과, 침구과, 한방내과, 한방부인과, 한방소아과, 한방신경정신과, 한방안·이...  \n",
       "18919  사상체질과, 침구과, 한방내과, 한방부인과, 한방소아과, 한방신경정신과, 한방안·이...  \n",
       "18920  사상체질과, 침구과, 한방내과, 한방부인과, 한방소아과, 한방신경정신과, 한방안·이...  \n",
       "18921  사상체질과, 침구과, 한방내과, 한방부인과, 한방소아과, 한방신경정신과, 한방안·이...  \n",
       "18928  사상체질과, 침구과, 한방내과, 한방부인과, 한방소아과, 한방신경정신과, 한방안·이...  \n",
       "\n",
       "[2977 rows x 9 columns]"
      ]
     },
     "execution_count": 102,
     "metadata": {},
     "output_type": "execute_result"
    }
   ],
   "source": [
    "import pandas as pd\n",
    "\n",
    "df = pd.read_csv('c:\\Temp\\병원DATA.csv')\n",
    "df.dropna()"
   ]
  }
 ],
 "metadata": {
  "kernelspec": {
   "display_name": "Python 3",
   "language": "python",
   "name": "python3"
  },
  "language_info": {
   "codemirror_mode": {
    "name": "ipython",
    "version": 3
   },
   "file_extension": ".py",
   "mimetype": "text/x-python",
   "name": "python",
   "nbconvert_exporter": "python",
   "pygments_lexer": "ipython3",
   "version": "3.12.3"
  }
 },
 "nbformat": 4,
 "nbformat_minor": 2
}
