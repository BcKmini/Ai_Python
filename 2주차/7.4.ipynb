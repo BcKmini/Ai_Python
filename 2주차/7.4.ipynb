{
 "cells": [
  {
   "cell_type": "code",
   "execution_count": 1,
   "metadata": {},
   "outputs": [
    {
     "name": "stdout",
     "output_type": "stream",
     "text": [
      "3\n",
      "[0 1 2 3 4 5 6 7 8 9]\n",
      "[0 1 2 3 4 5 6 7 8 9]\n",
      "[0 1 2 3 4 5 6 7 8]\n",
      "[2 4 6 8]\n",
      "[7 6 5 4 3]\n",
      "[9 8 7 6 5 4 3 2 1 0]\n"
     ]
    }
   ],
   "source": [
    "import numpy as np\n",
    "\n",
    "a = np.arange(10)\n",
    "#(0,1,2,3,4,5,6,7,8,9)\n",
    "print(a[3])\n",
    "print(a[:])\n",
    "print(a[:])\n",
    "print(a[:-1])\n",
    "#인덱스 2부터 2개씩\n",
    "print(a[2::2])\n",
    "#인덱스 7부터 2번 원소까지\n",
    "print(a[7:2:-1])\n",
    "# 마지막부터 처음까지 -1씩\n",
    "print(a[::-1])"
   ]
  },
  {
   "cell_type": "code",
   "execution_count": 5,
   "metadata": {},
   "outputs": [
    {
     "name": "stdout",
     "output_type": "stream",
     "text": [
      "[0 1 2 3 4 5 6 7 8 9]\n",
      "[5 6 7]\n",
      "[500 500 500]\n",
      "[  0   1   2   3   4 500 500 500   8   9]\n"
     ]
    }
   ],
   "source": [
    "a = np.arange(10)\n",
    "print(a)\n",
    "s = a[5:8]\n",
    "\n",
    "print(s)\n",
    "s[:] = 500 # 전체적으로 수정해라 -> (broadcasting)\n",
    "print(s)\n",
    "print(a)"
   ]
  },
  {
   "cell_type": "code",
   "execution_count": 10,
   "metadata": {},
   "outputs": [
    {
     "name": "stdout",
     "output_type": "stream",
     "text": [
      "[[ 0  1  2  3]\n",
      " [ 4  5  6  7]\n",
      " [ 8  9 10 11]\n",
      " [12 13 14 15]\n",
      " [16 17 18 19]]\n",
      "\n",
      "\n",
      "a[2,3] =     11\n",
      "a[0:5, 1 ] = [ 1  5  9 13 17]\n"
     ]
    }
   ],
   "source": [
    "a = np.arange(20).reshape((5,4))\n",
    "\n",
    "print(a)\n",
    "\n",
    "\n",
    "print(f\"\\n\\na[2,3] =     {a[2,3]}\")\n",
    "print(f\"a[0:5, 1 ] = {a[0:5, 1]}\")"
   ]
  },
  {
   "cell_type": "code",
   "execution_count": 16,
   "metadata": {},
   "outputs": [
    {
     "name": "stdout",
     "output_type": "stream",
     "text": [
      "바뀌기전에 a의 값은 :  [[0.69548305 0.25111976 0.48105893 0.02708707]\n",
      " [0.72414619 0.25833851 0.57065912 0.26271828]\n",
      " [0.3267636  0.19891317 0.86642333 0.59215036]]\n",
      "[[ 0.69548305 10.          0.48105893  0.02708707]\n",
      " [ 0.72414619  0.25833851  0.57065912  0.26271828]\n",
      " [ 0.3267636   0.19891317  0.86642333  0.59215036]]\n",
      "바뀐 후 에 a의 값은 :  [[ 0.69548305 10.          0.48105893  0.02708707]\n",
      " [ 0.72414619  0.25833851  0.57065912  0.26271828]\n",
      " [ 0.3267636   0.19891317  0.86642333  0.59215036]]\n"
     ]
    }
   ],
   "source": [
    "import numpy as np\n",
    "\n",
    "a = np.random.rand(3, 4)\n",
    "print(\"바뀌기전에 a의 값은 : \",a)\n",
    "b = a\n",
    "b[0, 1] = 10.0 #a도 바뀌게 된다 -> 얕은 복사\n",
    "print(b)\n",
    "print(\"바뀐 후 에 a의 값은 : \",a)"
   ]
  },
  {
   "cell_type": "code",
   "execution_count": 17,
   "metadata": {},
   "outputs": [
    {
     "name": "stdout",
     "output_type": "stream",
     "text": [
      "바뀌기전에 a의 값은 :  [[0.58575262 0.13492518 0.91883355 0.51543966]\n",
      " [0.65740558 0.55655821 0.93513971 0.99599251]\n",
      " [0.74030546 0.90163356 0.92120153 0.93024624]]\n",
      "[[ 0.58575262 10.          0.91883355  0.51543966]\n",
      " [ 0.65740558  0.55655821  0.93513971  0.99599251]\n",
      " [ 0.74030546  0.90163356  0.92120153  0.93024624]]\n",
      "바뀐 후 에 a의 값은 :  [[0.58575262 0.13492518 0.91883355 0.51543966]\n",
      " [0.65740558 0.55655821 0.93513971 0.99599251]\n",
      " [0.74030546 0.90163356 0.92120153 0.93024624]]\n"
     ]
    }
   ],
   "source": [
    "import numpy as np\n",
    "\n",
    "a = np.random.rand(3, 4)\n",
    "print(\"바뀌기전에 a의 값은 : \",a)\n",
    "b = a.copy()\n",
    "b[0, 1] = 10.0 #a의 값은 변하지 않는다. -> 깊은 복사 \n",
    "print(b)\n",
    "print(\"바뀐 후 에 a의 값은 : \",a)"
   ]
  },
  {
   "cell_type": "markdown",
   "metadata": {},
   "source": [
    "fancy indexing"
   ]
  },
  {
   "cell_type": "code",
   "execution_count": 11,
   "metadata": {},
   "outputs": [
    {
     "name": "stdout",
     "output_type": "stream",
     "text": [
      "[[ 0  1  2  3]\n",
      " [ 4  5  6  7]\n",
      " [ 8  9 10 11]\n",
      " [12 13 14 15]\n",
      " [16 17 18 19]] \n",
      "\n",
      "[ 2 10 14]\n",
      "[[ 0  1  2  3]\n",
      " [ 4  5  6  7]\n",
      " [ 8  9 10 11]\n",
      " [12 13 14 15]\n",
      " [16 17 18 19]] \n",
      "\n",
      "[[ 0  1  2  3]\n",
      " [ 8  9 10 11]\n",
      " [12 13 14 15]]\n"
     ]
    }
   ],
   "source": [
    "import numpy as np\n",
    "\n",
    "a = np.arange(20).reshape((5,4))\n",
    "print(a, '\\n')\n",
    "\n",
    "b = a[(0, 2, 3), 2] # fancy indexing\n",
    "print(b)\n",
    "\n",
    "c = np.arange(20).reshape((5,4))\n",
    "print(c, '\\n')\n",
    "\n",
    "rows = np.array([True, False, True, True, False])\n",
    "d = a[rows, :] # boolean indexing\n",
    "print(d)"
   ]
  },
  {
   "cell_type": "code",
   "execution_count": 20,
   "metadata": {},
   "outputs": [
    {
     "name": "stdout",
     "output_type": "stream",
     "text": [
      "[ True False  True False  True False  True]\n",
      "[1 3 5 7]\n"
     ]
    }
   ],
   "source": [
    "arr = np.array([1,2,3,4,5,6,7])\n",
    "filter = arr % 2 != 0\n",
    "newarr = arr[filter]\n",
    "\n",
    "print(filter) # -> 핕러링 부합하는 요소들만 추출하게 하는 방법\n",
    "print(newarr)"
   ]
  },
  {
   "cell_type": "code",
   "execution_count": 21,
   "metadata": {},
   "outputs": [
    {
     "name": "stdout",
     "output_type": "stream",
     "text": [
      "[4 4 4]\n"
     ]
    }
   ],
   "source": [
    "arr = np.array([1,2,3,4,5,4,4])\n",
    "y = np.array([0,0,0,1,0,1,1])\n",
    "\n",
    "x = arr[y==1]\n",
    "\n",
    "print(x)"
   ]
  },
  {
   "cell_type": "markdown",
   "metadata": {},
   "source": [
    "searching & filtering"
   ]
  },
  {
   "cell_type": "code",
   "execution_count": 23,
   "metadata": {},
   "outputs": [
    {
     "name": "stdout",
     "output_type": "stream",
     "text": [
      "(array([3, 5, 6]),)\n",
      "[3 5 6]\n",
      "[4 4 4]\n"
     ]
    }
   ],
   "source": [
    "#np.where(condition[, x, y])\n",
    "#condition이 True이면 x를, False이면 y를 반환\n",
    "#단, condition만 있는 경우에는 매칭된 요소의 **인덱스**들을 반환\n",
    "\n",
    "import numpy as np\n",
    "\n",
    "arr = np.array([1,2,3,4,5,4,4])\n",
    "x = np.where(arr == 4)\n",
    "\n",
    "print(x)\n",
    "print(x[0])\n",
    "print(arr[x]) #filtering"
   ]
  },
  {
   "cell_type": "code",
   "execution_count": 26,
   "metadata": {},
   "outputs": [
    {
     "name": "stdout",
     "output_type": "stream",
     "text": [
      "[ 1  2  3 -1  5 -1 -1]\n"
     ]
    }
   ],
   "source": [
    "import numpy as np\n",
    "\n",
    "arr = np.array([1,2,3,4,5,4,4])\n",
    "x = np.where(arr == 4, -1, arr)\n",
    "print(x)\n",
    "\n",
    "\n",
    "#where 사용 방법 -> 조건을 물을때*사용할때, 또는 참과 거짓에 반환에 사용할때\n",
    "# 중요한 우선순이 fancy indexing, boolean inexing, filtering, "
   ]
  },
  {
   "cell_type": "code",
   "execution_count": 4,
   "metadata": {},
   "outputs": [
    {
     "name": "stdout",
     "output_type": "stream",
     "text": [
      "[1.  1.2 1.4 1.6 1.8]\n"
     ]
    }
   ],
   "source": [
    "import numpy as np\n",
    "a = np.arange(1, 2 ,0.2)\n",
    "print(a)"
   ]
  },
  {
   "cell_type": "code",
   "execution_count": 10,
   "metadata": {},
   "outputs": [
    {
     "name": "stdout",
     "output_type": "stream",
     "text": [
      "[[0.86460413 0.22631803 0.52832256 0.73690193]\n",
      " [0.09855523 0.53756502 0.07144762 0.13522083]\n",
      " [0.11820135 0.59279874 0.54349604 0.31138648]]\n",
      "argmax = 0\n",
      "argmax for axis 0 direction = [0 2 2 0]\n"
     ]
    }
   ],
   "source": [
    "#최대, 최소값의 위치 구하기 (argmax, argmin)\n",
    "\n",
    "import numpy as np\n",
    "\n",
    "a = np.random.random_sample((3,4))\n",
    "print(a)\n",
    "\n",
    "print(f\"argmax = {np.argmax(a)}\")\n",
    "\n",
    "print(f\"argmax for axis 0 direction = {np.argmax(a, axis=0)}\")                                                    "
   ]
  },
  {
   "cell_type": "code",
   "execution_count": 14,
   "metadata": {},
   "outputs": [
    {
     "name": "stdout",
     "output_type": "stream",
     "text": [
      "a = \n",
      "[[1. 0. 0.]\n",
      " [0. 1. 0.]\n",
      " [0. 0. 1.]]\n",
      "b = \n",
      "[[1 3]\n",
      " [2 4]]\n",
      "inverse matrix of b = \n",
      "[[-2.   1.5]\n",
      " [ 1.  -0.5]]\n"
     ]
    }
   ],
   "source": [
    "#단위행렬 만들기\n",
    "import numpy as np\n",
    "import numpy.linalg as npl\n",
    "\n",
    "a = np.eye(3)\n",
    "print(\"a = \\n\", a, sep='')\n",
    "\n",
    "b = np.array([[1,3], [2,4 ]])\n",
    "print(\"b = \\n\", b, sep='')\n",
    "# 역행렬 -> \n",
    "print(\"inverse matrix of b = \\n\", npl.inv(b), sep='')"
   ]
  },
  {
   "cell_type": "code",
   "execution_count": null,
   "metadata": {},
   "outputs": [],
   "source": [
    "#전치행렬 -> 행과 열을 바꾼거다\n",
    "a = np.arange(24).reshape(2,4,3)"
   ]
  },
  {
   "cell_type": "code",
   "execution_count": 3,
   "metadata": {},
   "outputs": [
    {
     "name": "stdout",
     "output_type": "stream",
     "text": [
      "False\n",
      "False\n"
     ]
    }
   ],
   "source": [
    "a = 0.1 \n",
    "b = 0.2\n",
    "print(a + b == 0.3)\n",
    "print(0.1 + 0.2 == 0.3) "
   ]
  }
 ],
 "metadata": {
  "kernelspec": {
   "display_name": "Python 3",
   "language": "python",
   "name": "python3"
  },
  "language_info": {
   "codemirror_mode": {
    "name": "ipython",
    "version": 3
   },
   "file_extension": ".py",
   "mimetype": "text/x-python",
   "name": "python",
   "nbconvert_exporter": "python",
   "pygments_lexer": "ipython3",
   "version": "3.12.3"
  }
 },
 "nbformat": 4,
 "nbformat_minor": 2
}
